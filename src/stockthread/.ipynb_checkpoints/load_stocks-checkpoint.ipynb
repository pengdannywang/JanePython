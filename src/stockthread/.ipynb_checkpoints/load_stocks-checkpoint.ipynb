{
 "cells": [
  {
   "cell_type": "code",
   "execution_count": 5,
   "metadata": {},
   "outputs": [
    {
     "data": {
      "text/plain": [
       "Date\n",
       "2017-05-01    2.060\n",
       "2017-05-02    1.970\n",
       "2017-05-03    2.020\n",
       "2017-05-04    2.040\n",
       "2017-05-05    2.000\n",
       "2017-05-08    2.000\n",
       "2017-05-09    2.010\n",
       "2017-05-10    2.000\n",
       "2017-05-11    2.000\n",
       "2017-05-12    2.080\n",
       "2017-05-15    2.000\n",
       "2017-05-16    2.000\n",
       "2017-05-17    1.970\n",
       "2017-05-18    1.920\n",
       "2017-05-19    1.950\n",
       "2017-05-22    1.850\n",
       "2017-05-23    1.815\n",
       "2017-05-24    1.725\n",
       "2017-05-25    1.700\n",
       "2017-05-26    1.630\n",
       "2017-05-29    1.720\n",
       "2017-05-30    1.620\n",
       "2017-05-31    1.610\n",
       "2017-06-01    1.635\n",
       "2017-06-02    1.640\n",
       "2017-06-05    1.615\n",
       "2017-06-06    1.605\n",
       "2017-06-07    1.610\n",
       "2017-06-08    1.830\n",
       "2017-06-09    1.900\n",
       "              ...  \n",
       "2019-03-24    0.850\n",
       "2019-03-25    0.850\n",
       "2019-03-26    0.910\n",
       "2019-03-27    0.990\n",
       "2019-03-28    0.940\n",
       "2019-03-31    0.950\n",
       "2019-04-01    0.955\n",
       "2019-04-02    0.980\n",
       "2019-04-03    0.975\n",
       "2019-04-04    1.010\n",
       "2019-04-08    1.080\n",
       "2019-04-09    1.050\n",
       "2019-04-10    1.110\n",
       "2019-04-11    1.100\n",
       "2019-04-12    1.120\n",
       "2019-04-15    1.120\n",
       "2019-04-16    1.160\n",
       "2019-04-17    1.250\n",
       "2019-04-18    1.235\n",
       "2019-04-23    1.170\n",
       "2019-04-24    1.170\n",
       "2019-04-26    1.225\n",
       "2019-04-29    1.200\n",
       "2019-04-30    1.200\n",
       "2019-05-01    1.195\n",
       "2019-05-02    1.245\n",
       "2019-05-03    1.305\n",
       "2019-05-06    1.250\n",
       "2019-05-07    1.190\n",
       "2019-05-08    1.205\n",
       "Name: Adj Close, Length: 512, dtype: float64"
      ]
     },
     "execution_count": 5,
     "metadata": {},
     "output_type": "execute_result"
    }
   ],
   "source": [
    "# -*- coding: utf-8 -*-\n",
    "\n",
    "import pandas as pd\n",
    "from sarimaxModel import forcastStocks\n",
    "from loadstocks import loadStocksByTickers\n",
    "from loadstocks import loadAuNotNaTickersFromYahooExcel\n",
    "# We will look at stock prices over the past year, starting at January 1, 2016\n",
    "\n",
    "path='/root/pythondev/JanePython/'\n",
    "inputfile = path+'Yahoo.xlsx'\n",
    "outputfile = 'stocks2.csv'\n",
    "\n",
    "tickers=loadAuNotNaTickersFromYahooExcel(inputfile)\n",
    "stocks=loadStocksByTickers(tickers,path,outputfile)\n",
    "print(len(stocks))"
   ]
  },
  {
   "cell_type": "code",
   "execution_count": null,
   "metadata": {},
   "outputs": [],
   "source": []
  }
 ],
 "metadata": {
  "kernelspec": {
   "display_name": "Python 3",
   "language": "python",
   "name": "python3"
  },
  "language_info": {
   "codemirror_mode": {
    "name": "ipython",
    "version": 3
   },
   "file_extension": ".py",
   "mimetype": "text/x-python",
   "name": "python",
   "nbconvert_exporter": "python",
   "pygments_lexer": "ipython3",
   "version": "3.6.3"
  }
 },
 "nbformat": 4,
 "nbformat_minor": 2
}
