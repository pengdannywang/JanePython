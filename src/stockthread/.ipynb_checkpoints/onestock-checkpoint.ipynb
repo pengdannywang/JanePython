{
 "cells": [
  {
   "cell_type": "code",
   "execution_count": null,
   "metadata": {},
   "outputs": [],
   "source": []
  },
  {
   "cell_type": "code",
   "execution_count": null,
   "metadata": {},
   "outputs": [],
   "source": []
  },
  {
   "cell_type": "code",
   "execution_count": 1,
   "metadata": {},
   "outputs": [],
   "source": [
    "import datetime\n",
    "import pandas_datareader.data as web\n",
    "from sarimaxModel import sarimaxPrdict\n",
    "from sarimaxModel import quickParameters\n",
    "from sarimaxModel import selectParameters\n",
    "from sarimaxModel import predictbyticker\n",
    "import pandas as pd\n",
    "from sarimaxModel import forcastStocks\n",
    "from loadstocks import loadStocksByTickers\n",
    "from loadstocks import loadAuNotNaTickersFromYahooExcel\n",
    "from sarimaxModel import predictbyticker\n",
    "import pandas as pd\n",
    "from sarimaxModel import forcastStocks\n",
    "from loadstocks import loadStocksByTickers\n",
    "from loadstocks import loadAuNotNaTickersFromYahooExcel\n",
    "# We will look at stock prices over the past year, starting at January 1, 2016\n",
    "\n",
    "\n",
    "ticker='CIA.AX'\n",
    "months=12\n",
    "end = datetime.date.today()\n",
    "day=end.day\n",
    "year=end.year-months//12-1\n",
    "month=months%12+1\n",
    "start=datetime.datetime(year,month,day)\n",
    "\n",
    "data=web.DataReader(ticker,\"yahoo\",start,end)['Adj Close']   \n",
    "\n",
    "#y=data.resample('MS').mean()\n",
    "\n",
    "#parameters=quickParameters(paramPath,ticker,y,steps=2,disp=False)\n",
    "#parameters=selectParameters(ticker,y,steps=2,disp=True)\n",
    "#['8CO.AX', 0, 0, 0, 0, 0, 0, 12, 't', -7.909122119923726, 0.03528654153968552]\n",
    "\n",
    "#parameters=['MFG.AX', 0, 0, 1, 0, 1, 0, 12, 'n', 321.3071720270583, 0.486377988114156]\n",
    "#data=data['2019-04-01':]"
   ]
  },
  {
   "cell_type": "code",
   "execution_count": 2,
   "metadata": {},
   "outputs": [
    {
     "name": "stdout",
     "output_type": "stream",
     "text": [
      "['CIA.AX', 0, 1, 1, 0, 1, 0, 12, 'ct', -193.07064262909955, 0.04023517522998743]\n"
     ]
    }
   ],
   "source": [
    "y=data.resample('C').mean()\n",
    "steps=1\n",
    "#parameters=quickParameters(paramPath,ticker,y,steps=2,disp=False)\n",
    "parameters=selectParameters(ticker,y,steps=steps,disp=False)"
   ]
  },
  {
   "cell_type": "code",
   "execution_count": 6,
   "metadata": {},
   "outputs": [
    {
     "name": "stdout",
     "output_type": "stream",
     "text": [
      "[0, 1, 1] [0, 1, 0, 12] ct\n"
     ]
    }
   ],
   "source": [
    "#y=data.resample('C').mean()\n",
    "import statsmodels.api as sm\n",
    "import os\n",
    "# SARIMAX example\n",
    "from statsmodels.tsa.statespace.sarimax import SARIMAX\n",
    "import matplotlib.pylab as plt\n",
    "from sklearn.metrics import mean_squared_error\n",
    "\n",
    "\n",
    "train_y, test_y = y[:-steps], y[-steps:]\n",
    "\n",
    "p1,p2,t=parameters[1:4],parameters[4:8],parameters[8]\n",
    "print(p1,p2,t)\n",
    "model = SARIMAX(train_y,\n",
    "     order=p1,\n",
    "     seasonal_order=p2,\n",
    "     trend=t,\n",
    "     enforce_stationarity=False,\n",
    "     enforce_invertibility=False)\n",
    "\n",
    "model_fit = model.fit(disp=False)\n",
    "\n",
    "forcast=model_fit.forecast(steps=len(test_y))\n",
    "\n"
   ]
  },
  {
   "cell_type": "code",
   "execution_count": 7,
   "metadata": {},
   "outputs": [
    {
     "name": "stdout",
     "output_type": "stream",
     "text": [
      "Date\n",
      "2017-01-23    1.060\n",
      "2017-01-24    1.310\n",
      "2017-01-25      NaN\n",
      "2017-01-26    1.100\n",
      "2017-01-27    1.145\n",
      "2017-01-30    1.250\n",
      "2017-01-31    1.155\n",
      "2017-02-01    1.070\n",
      "2017-02-02    1.220\n",
      "2017-02-03    1.160\n",
      "2017-02-06    1.155\n",
      "2017-02-07    1.160\n",
      "2017-02-08    1.060\n",
      "2017-02-09    1.150\n",
      "2017-02-10    1.250\n",
      "2017-02-13    1.445\n",
      "2017-02-14    1.325\n",
      "2017-02-15    1.300\n",
      "2017-02-16    1.300\n",
      "2017-02-17    1.220\n",
      "2017-02-20    1.240\n",
      "2017-02-21    1.100\n",
      "2017-02-22    1.165\n",
      "2017-02-23    1.100\n",
      "2017-02-24    1.100\n",
      "2017-02-27    1.000\n",
      "2017-02-28    0.985\n",
      "2017-03-01    1.040\n",
      "2017-03-02    1.000\n",
      "2017-03-03    1.010\n",
      "              ...  \n",
      "2019-04-12    2.430\n",
      "2019-04-15    2.350\n",
      "2019-04-16    2.350\n",
      "2019-04-17    2.240\n",
      "2019-04-18    2.270\n",
      "2019-04-19      NaN\n",
      "2019-04-22      NaN\n",
      "2019-04-23    2.210\n",
      "2019-04-24    2.260\n",
      "2019-04-25      NaN\n",
      "2019-04-26    2.260\n",
      "2019-04-29    2.270\n",
      "2019-04-30    2.220\n",
      "2019-05-01    2.280\n",
      "2019-05-02    2.270\n",
      "2019-05-03    2.250\n",
      "2019-05-06    2.270\n",
      "2019-05-07    2.380\n",
      "2019-05-08    2.400\n",
      "2019-05-09    2.400\n",
      "2019-05-10    2.400\n",
      "2019-05-13    2.430\n",
      "2019-05-14    2.450\n",
      "2019-05-15    2.490\n",
      "2019-05-16    2.600\n",
      "2019-05-17    2.810\n",
      "2019-05-20    2.880\n",
      "2019-05-21    2.920\n",
      "2019-05-22    2.880\n",
      "2019-05-23    2.900\n",
      "Freq: C, Name: Adj Close, Length: 609, dtype: float64\n",
      "Date\n",
      "2019-05-24    2.81\n",
      "Freq: C, Name: Adj Close, dtype: float64\n",
      "2019-05-24    2.932161\n",
      "Freq: C, dtype: float64\n"
     ]
    },
    {
     "data": {
      "image/png": "[encoded data removed]",
      "text/plain": [
       "<Figure size 432x288 with 1 Axes>"
      ]
     },
     "metadata": {
      "needs_background": "light"
     },
     "output_type": "display_data"
    }
   ],
   "source": [
    "print(train_y)\n",
    "print(test_y)\n",
    "print(forcast) \n",
    "if( len(parameters)>0):\n",
    "    \n",
    "    p1,p2,t=parameters[1:4],parameters[4:8],parameters[8]\n",
    "    result=sarimaxPrdict(ticker,y,p1,p2,t,steps=10,disp=True,days=50)\n",
    "else:\n",
    "    print(\"wrong parameters\",len(parameters))"
   ]
  },
  {
   "cell_type": "code",
   "execution_count": 8,
   "metadata": {},
   "outputs": [
    {
     "data": {
      "text/plain": [
       "2019-05-24    2.810000\n",
       "2019-05-27    2.823255\n",
       "2019-05-28    2.823285\n",
       "2019-05-29    2.853312\n",
       "2019-05-30    2.873335\n",
       "2019-05-31    2.913354\n",
       "2019-06-03    3.023370\n",
       "2019-06-04    3.233382\n",
       "2019-06-05    3.303391\n",
       "2019-06-06    3.343395\n",
       "2019-06-07    3.303397\n",
       "dtype: float64"
      ]
     },
     "execution_count": 8,
     "metadata": {},
     "output_type": "execute_result"
    }
   ],
   "source": [
    "result"
   ]
  },
  {
   "cell_type": "code",
   "execution_count": null,
   "metadata": {},
   "outputs": [],
   "source": []
  }
 ],
 "metadata": {
  "kernelspec": {
   "display_name": "Python 3",
   "language": "python",
   "name": "python3"
  },
  "language_info": {
   "codemirror_mode": {
    "name": "ipython",
    "version": 3
   },
   "file_extension": ".py",
   "mimetype": "text/x-python",
   "name": "python",
   "nbconvert_exporter": "python",
   "pygments_lexer": "ipython3",
   "version": "3.6.8"
  }
 },
 "nbformat": 4,
 "nbformat_minor": 2
}
