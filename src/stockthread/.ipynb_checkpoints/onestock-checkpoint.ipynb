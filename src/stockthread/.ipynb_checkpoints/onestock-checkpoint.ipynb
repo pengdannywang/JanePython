{
 "cells": [
  {
   "cell_type": "code",
   "execution_count": null,
   "metadata": {},
   "outputs": [],
   "source": []
  },
  {
   "cell_type": "code",
   "execution_count": null,
   "metadata": {},
   "outputs": [],
   "source": []
  },
  {
   "cell_type": "code",
   "execution_count": 1,
   "metadata": {},
   "outputs": [
    {
     "data": {
      "text/plain": [
       "174.0"
      ]
     },
     "execution_count": 1,
     "metadata": {},
     "output_type": "execute_result"
    }
   ],
   "source": [
    "import datetime\n",
    "import pandas_datareader.data as web\n",
    "from sarimaxModel import sarimaxPrdict\n",
    "from sarimaxModel import quickParameters\n",
    "from sarimaxModel import selectParameters\n",
    "from sarimaxModel import predictbyticker\n",
    "import pandas as pd\n",
    "from sarimaxModel import forcastStocks\n",
    "from loadstocks import loadStocksByTickers\n",
    "from loadstocks import loadAuNotNaTickersFromYahooExcel\n",
    "from sarimaxModel import predictbyticker\n",
    "import pandas as pd\n",
    "from sarimaxModel import forcastStocks\n",
    "from loadstocks import loadStocksByTickers\n",
    "from loadstocks import loadAuNotNaTickersFromYahooExcel\n",
    "# We will look at stock prices over the past year, starting at January 1, 2016\n",
    "\n",
    "\n",
    "ticker='GOLD.AX'\n",
    "months=12\n",
    "end = datetime.date.today()\n",
    "day=end.day\n",
    "year=end.year-months//12-1\n",
    "month=months%12+1\n",
    "start=datetime.datetime(year,month,day)\n",
    "\n",
    "data=web.DataReader(ticker,\"yahoo\",start,end)['Adj Close']   \n",
    "\n",
    "#y=data.resample('MS').mean()\n",
    "\n",
    "#parameters=quickParameters(paramPath,ticker,y,steps=2,disp=False)\n",
    "#parameters=selectParameters(ticker,y,steps=2,disp=True)\n",
    "#['8CO.AX', 0, 0, 0, 0, 0, 0, 12, 't', -7.909122119923726, 0.03528654153968552]\n",
    "\n",
    "#parameters=['MFG.AX', 0, 0, 1, 0, 1, 0, 12, 'n', 321.3071720270583, 0.486377988114156]\n",
    "data[-1]"
   ]
  },
  {
   "cell_type": "code",
   "execution_count": null,
   "metadata": {},
   "outputs": [],
   "source": [
    "y=data.resample('C').mean()\n",
    "\n",
    "#parameters=quickParameters(paramPath,ticker,y,steps=2,disp=False)\n",
    "parameters=selectParameters(ticker,y,steps=3,disp=True)"
   ]
  },
  {
   "cell_type": "code",
   "execution_count": null,
   "metadata": {},
   "outputs": [],
   "source": [
    "import statsmodels.api as sm\n",
    "import os\n",
    "# SARIMAX example\n",
    "from statsmodels.tsa.statespace.sarimax import SARIMAX\n",
    "import matplotlib.pylab as plt\n",
    "from sklearn.metrics import mean_squared_error\n",
    "steps=3\n",
    "\n",
    "train_y, test_y = y[:-steps], y[-steps:]\n",
    "\n",
    "p1,p2,t=parameters[1:4],parameters[4:8],parameters[8]\n",
    "print(p1,p2,t)\n",
    "model = SARIMAX(train_y,\n",
    "     order=p1,\n",
    "     seasonal_order=p2,\n",
    "     trend=t,\n",
    "     enforce_stationarity=False,\n",
    "     enforce_invertibility=False)\n",
    "\n",
    "model_fit = model.fit(disp=False)\n",
    "\n",
    "forcast=model_fit.forecast(steps=len(test_y))\n",
    " \n",
    "pred_ci=pd.DataFrame(index=forcast.index)\n",
    "pred_ci['low'] = forcast-forcast*0.05\n",
    "pred_ci['upper'] = forcast+forcast*0.05\n",
    "\n",
    "\n",
    "#pred_ci.loc[y.index[-1]]=[y[-1],y[-1]]\n",
    "#pred_ci=pred_ci.sort_index()\n",
    "ax = y['2019-01-01':].plot(label='observed')\n",
    "forcast.plot(ax=ax, label='Forecast', alpha=.7)\n",
    "\n",
    "ax.fill_between(forcast.index,\n",
    "                pred_ci.iloc[:,0],\n",
    "                pred_ci.iloc[:,1], color='k', alpha=.1)\n",
    "\n",
    "ax.set_xlabel('Date')\n",
    "ax.set_ylabel(ticker)\n",
    "plt.legend()\n",
    "\n",
    "plt.show()\n",
    "print(train_y)\n",
    "print(test_y)\n",
    "print(forcast) "
   ]
  },
  {
   "cell_type": "code",
   "execution_count": null,
   "metadata": {},
   "outputs": [],
   "source": [
    "\n",
    "if( len(parameters)>0):\n",
    "    \n",
    "    p1,p2,t=parameters[1:4],parameters[4:8],parameters[8]\n",
    "    result=sarimaxPrdict(ticker,y,p1,p2,t,steps=5,disp=True,days=20)\n",
    "else:\n",
    "    print(\"wrong parameters\",len(parameters))"
   ]
  },
  {
   "cell_type": "code",
   "execution_count": null,
   "metadata": {},
   "outputs": [],
   "source": [
    "result"
   ]
  },
  {
   "cell_type": "code",
   "execution_count": null,
   "metadata": {},
   "outputs": [],
   "source": []
  }
 ],
 "metadata": {
  "kernelspec": {
   "display_name": "Python 3",
   "language": "python",
   "name": "python3"
  },
  "language_info": {
   "codemirror_mode": {
    "name": "ipython",
    "version": 3
   },
   "file_extension": ".py",
   "mimetype": "text/x-python",
   "name": "python",
   "nbconvert_exporter": "python",
   "pygments_lexer": "ipython3",
   "version": "3.6.8"
  }
 },
 "nbformat": 4,
 "nbformat_minor": 2
}
