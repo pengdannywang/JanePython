{
 "cells": [
  {
   "cell_type": "code",
   "execution_count": 1,
   "metadata": {},
   "outputs": [],
   "source": [
    "# -*- coding: utf-8 -*-\n",
    "\n",
    "import pandas as pd\n",
    "from sarimaxModel import forcastStocks\n",
    "from loadstocks import loadStocksByTickers\n",
    "from loadstocks import loadAuNotNaTickersFromYahooExcel\n",
    "# We will look at stock prices over the past year, starting at January 1, 2016\n",
    "\n",
    "#path='/Users/pengwang/PycharmProjects/JanePython/'\n",
    "path='/root/pythondev/JanePython/'\n",
    "inputfile = path+'Yahoo.xlsx'\n",
    "outputfile = 'stocks2.csv'\n",
    "savepath=path+outputfile\n",
    "ds=pd.read_csv(savepath,parse_dates=['Date'],index_col='Date')\n",
    "\n",
    "#ds=ds[[col for col in ds.columns if pd.Series(ds[col].values>1).sum()>30]]\n",
    "#ds=ds['2018-06-01':]"
   ]
  },
  {
   "cell_type": "code",
   "execution_count": null,
   "metadata": {},
   "outputs": [],
   "source": []
  },
  {
   "cell_type": "code",
   "execution_count": null,
   "metadata": {
    "scrolled": true
   },
   "outputs": [
    {
     "name": "stdout",
     "output_type": "stream",
     "text": [
      "ORG.AX\n",
      "ORG.AX exists in parameters: [1, 1, 0, 0, 1, 0, 12, 't', 24.538699393689733, 0.015019400399353303]\n",
      "sarimaxPrdict has a exception for: ORG.AX [1, 1, 0] [0, 1, 0, 12] t 1 object of type 'numpy.int64' has no len() return None\n",
      "ANZ.AX\n",
      "ANZ.AX exists in parameters: [1, 0, 0, 1, 0, 0, 12, 't', 30.736453964431767, 0.3848718397205367]\n",
      "WOW.AX\n",
      "WOW.AX exists in parameters: [0, 1, 0, 0, 1, 0, 12, 't', 19.101819499656585, 0.3484587834484301]\n",
      "sarimaxPrdict has a exception for: WOW.AX [0, 1, 0] [0, 1, 0, 12] t 1 object of type 'numpy.int64' has no len() return None\n",
      "WAT.AX\n",
      "WAT.AX exists in parameters: [1, 0, 0, 1, 0, 0, 12, 't', -4.297958076493746, 0.0851360193082525]\n",
      "QBE.AX\n",
      "QBE.AX exists in parameters: [0, 1, 0, 1, 0, 0, 12, 't', 20.013010606486194, 0.052981672375511636]\n",
      "BXB.AX\n",
      "BXB.AX exists in parameters: [0, 1, 1, 1, 0, 0, 12, 'n', 16.7318788908486, 0.05757055437253005]\n",
      "BHP.AX\n",
      "BHP.AX exists in parameters: [0, 1, 0, 1, 0, 0, 12, 't', 27.95285929325582, 0.7867903601741182]\n",
      "MQG.AX\n",
      "MQG.AX exists in parameters: [0, 0, 1, 1, 1, 1, 12, 'n', 447.72032675757936, 2.301974847655424]\n",
      "sarimaxPrdict has a exception for: MQG.AX [0, 0, 1] [1, 1, 1, 12] n 1 object of type 'numpy.int64' has no len() return None\n",
      "WPL.AX\n",
      "WPL.AX exists in parameters: [0, 0, 0, 1, 1, 1, 12, 'c', 319.12075632812923, 0.2544959680721994]\n",
      "sarimaxPrdict has a exception for: WPL.AX [0, 0, 0] [1, 1, 1, 12] c 1 object of type 'numpy.int64' has no len() return None\n",
      "WHC.AX\n",
      "WHC.AX exists in parameters: [0, 1, 0, 0, 1, 1, 12, 'c', -35.87945083966869, 0.004626090903671588]\n",
      "sarimaxPrdict has a exception for: WHC.AX [0, 1, 0] [0, 1, 1, 12] c 1 object of type 'numpy.int64' has no len() return None\n",
      "WES.AX\n",
      "WES.AX exists in parameters: [1, 0, 0, 0, 0, 0, 12, 'c', 142.34133491107158, 0.01749854341047397]\n",
      "TLS.AX\n",
      "TLS.AX exists in parameters: [0, 1, 1, 1, 1, 0, 12, 't', -124.32792203735428, 0.0029923888642774056]\n",
      "sarimaxPrdict has a exception for: TLS.AX [0, 1, 1] [1, 1, 0, 12] t 1 object of type 'numpy.int64' has no len() return None\n",
      "SXL.AX\n",
      "SXL.AX exists in parameters: [1, 0, 1, 1, 0, 1, 12, 'ct', -321.20086193215144, 0.006196684434658279]\n",
      "REA.AX\n",
      "REA.AX exists in parameters: [1, 1, 1, 1, 0, 0, 12, 'c', 353.7192808782773, 0.012564414282003378]\n",
      "NAB.AX\n",
      "NAB.AX exists in parameters: [0, 1, 0, 1, 0, 0, 12, 'ct', 53.80400980270298, 0.0045045729371899785]\n",
      "IRI.AX\n",
      "IRI.AX exists in parameters: [1, 1, 0, 1, 0, 0, 12, 'ct', -32.55579391081856, 0.0003808274329704098]\n",
      "CPU.AX\n",
      "CPU.AX exists in parameters: [1, 0, 0, 1, 0, 0, 12, 'ct', 47.3496158784009, 0.011118395049344088]\n",
      "CMW.AX\n",
      "CMW.AX exists in parameters: [1, 0, 0, 0, 1, 1, 12, 'ct', 1105.7017139589475, 0.000853580968314116]\n",
      "sarimaxPrdict has a exception for: CMW.AX [1, 0, 0] [0, 1, 1, 12] ct 1 object of type 'numpy.int64' has no len() return None\n",
      "CBA.AX\n",
      "CBA.AX exists in parameters: [1, 0, 0, 0, 1, 0, 12, 'ct', 158.01087833986074, 9.543864915428912e-05]\n",
      "sarimaxPrdict has a exception for: CBA.AX [1, 0, 0] [0, 1, 0, 12] ct 1 object of type 'numpy.int64' has no len() return None\n",
      "ANN.AX\n",
      "ANN.AX exists in parameters: [0, 0, 1, 1, 1, 1, 12, 't', 74.16352337594759, 0.08635163527583957]\n",
      "sarimaxPrdict has a exception for: ANN.AX [0, 0, 1] [1, 1, 1, 12] t 1 object of type 'numpy.int64' has no len() return None\n",
      "WSA.AX\n",
      "WSA.AX exists in parameters: [0, 1, 1, 0, 1, 0, 12, 'n', -37.78908886438641, 0.00034867369704505435]\n",
      "sarimaxPrdict has a exception for: WSA.AX [0, 1, 1] [0, 1, 0, 12] n 1 object of type 'numpy.int64' has no len() return None\n",
      "WOR.AX\n",
      "WOR.AX exists in parameters: [0, 0, 1, 0, 1, 1, 12, 't', 750.0238666687671, 0.002408242215283352]\n",
      "sarimaxPrdict has a exception for: WOR.AX [0, 0, 1] [0, 1, 1, 12] t 1 object of type 'numpy.int64' has no len() return None\n",
      "WBC.AX\n",
      "WBC.AX exists in parameters: [1, 0, 0, 0, 1, 1, 12, 'n', 1032.8825426504422, 0.002214929227438489]\n",
      "sarimaxPrdict has a exception for: WBC.AX [1, 0, 0] [0, 1, 1, 12] n 1 object of type 'numpy.int64' has no len() return None\n",
      "WBA.AX\n",
      "WBA.AX exists in parameters: [0, 0, 0, 1, 0, 1, 12, 'ct', -117.63595773071195, 0.01650710434876146]\n",
      "TGR.AX\n",
      "TGR.AX exists in parameters: [0, 0, 0, 0, 1, 0, 12, 'c', 14.826853203161022, 0.016202833172989983]\n",
      "sarimaxPrdict has a exception for: TGR.AX [0, 0, 0] [0, 1, 0, 12] c 1 object of type 'numpy.int64' has no len() return None\n",
      "TCL.AX\n",
      "TCL.AX exists in parameters: [0, 1, 1, 0, 1, 0, 12, 't', 0.2088914639064221, 0.00021563468315477508]\n",
      "sarimaxPrdict has a exception for: TCL.AX [0, 1, 1] [0, 1, 0, 12] t 1 object of type 'numpy.int64' has no len() return None\n",
      "RHC.AX\n",
      "RHC.AX exists in parameters: [0, 0, 0, 0, 0, 1, 12, 'ct', 154.29299692740534, 0.02992390634551612]\n",
      "PLS.AX\n",
      "PLS.AX exists in parameters: [0, 0, 0, 0, 0, 1, 12, 'c', -82.6333379146197, 0.001513944069668538]\n",
      "OZL.AX\n",
      "OZL.AX exists in parameters: [1, 1, 1, 0, 1, 0, 12, 'ct', 27.815385223759108, 0.0806567445896249]\n",
      "sarimaxPrdict has a exception for: OZL.AX [1, 1, 1] [0, 1, 0, 12] ct 1 object of type 'numpy.int64' has no len() return None\n",
      "MOC.AX\n",
      "MOC.AX exists in parameters: [1, 0, 1, 1, 0, 1, 12, 'ct', -92.85837088481651, 7.670837627116178e-05]\n",
      "ILU.AX\n",
      "ILU.AX exists in parameters: [1, 1, 0, 1, 1, 0, 12, 't', 21.08536741670148, 0.00022292009336410962]\n",
      "sarimaxPrdict has a exception for: ILU.AX [1, 1, 0] [1, 1, 0, 12] t 1 object of type 'numpy.int64' has no len() return None\n",
      "HVN.AX\n",
      "HVN.AX exists in parameters: [1, 0, 1, 1, 1, 1, 12, 't', -25.288317118323555, 0.003774094851596743]\n",
      "sarimaxPrdict has a exception for: HVN.AX [1, 0, 1] [1, 1, 1, 12] t 1 object of type 'numpy.int64' has no len() return None\n",
      "GNC.AX\n",
      "GNC.AX exists in parameters: [0, 0, 0, 0, 0, 0, 12, 'c', 119.03712496017704, 0.3098261269367555]\n",
      "COH.AX\n",
      "COH.AX exists in parameters: [1, 0, 1, 1, 1, 1, 12, 't', 162.30163627716684, 0.055315376000891085]\n",
      "sarimaxPrdict has a exception for: COH.AX [1, 0, 1] [1, 1, 1, 12] t 1 object of type 'numpy.int64' has no len() return None\n",
      "BLD.AX\n",
      "BLD.AX exists in parameters: [0, 1, 0, 1, 1, 0, 12, 'c', -7.892104161472872, 0.0003596751789141095]\n",
      "sarimaxPrdict has a exception for: BLD.AX [0, 1, 0] [1, 1, 0, 12] c 1 object of type 'numpy.int64' has no len() return None\n",
      "BEN.AX\n",
      "BEN.AX exists in parameters: [0, 0, 0, 1, 0, 0, 12, 'c', 26.412782997193023, 0.003792089887530992]\n",
      "ASX.AX\n",
      "ASX.AX exists in parameters: [0, 1, 0, 0, 0, 0, 12, 'n', 143.7771522211153, 0.0014976501464900591]\n",
      "AMP.AX\n",
      "AMP.AX exists in parameters: [0, 1, 1, 1, 1, 0, 12, 't', -26.776890973914966, 0.0003818529880410537]\n",
      "sarimaxPrdict has a exception for: AMP.AX [0, 1, 1] [1, 1, 0, 12] t 1 object of type 'numpy.int64' has no len() return None\n",
      "YAL.AX\n",
      "YAL.AX exists in parameters: [0, 0, 0, 1, 0, 0, 12, 't', 35.65218938466435, 0.011865052711618862]\n",
      "TWE.AX\n",
      "TWE.AX exists in parameters: [0, 0, 0, 0, 1, 0, 12, 'c', 158.58254380127198, 0.020621621688935214]\n",
      "sarimaxPrdict has a exception for: TWE.AX [0, 0, 0] [0, 1, 0, 12] c 1 object of type 'numpy.int64' has no len() return None\n",
      "SIQ.AX\n",
      "SIQ.AX exists in parameters: [1, 0, 1, 0, 0, 0, 12, 't', 49.16762633233208, 0.0008082499128310161]\n",
      "SHV.AX\n",
      "SHV.AX exists in parameters: [0, 0, 0, 0, 1, 0, 12, 't', 93.62201081244996, 0.014195862601058984]\n",
      "sarimaxPrdict has a exception for: SHV.AX [0, 0, 0] [0, 1, 0, 12] t 1 object of type 'numpy.int64' has no len() return None\n",
      "SDF.AX\n",
      "SDF.AX exists in parameters: [0, 0, 0, 0, 1, 0, 12, 't', 9.647776260078981, 0.018490186688252752]\n",
      "sarimaxPrdict has a exception for: SDF.AX [0, 0, 0] [0, 1, 0, 12] t 1 object of type 'numpy.int64' has no len() return None\n",
      "PPT.AX\n",
      "['PPT.AX', 0, 0, 0, 1, 0, 1, 12, 't', 211.08050003670158, 0.017495209458658678]\n",
      "new calculated parameter: ['PPT.AX', 0, 0, 0, 1, 0, 1, 12, 't', 211.08050003670158, 0.017495209458658678]\n",
      "PMV.AX\n"
     ]
    }
   ],
   "source": [
    "\n",
    "data=ds.resample('MS').mean()\n",
    "result=pd.DataFrame()\n",
    "for ticker in data.columns:\n",
    "    print(ticker)\n",
    "    res=forcastStocks(path+'parameters2.csv',ticker,data[ticker])\n",
    "    if(res is not None):\n",
    "        result[ticker]=res"
   ]
  },
  {
   "cell_type": "code",
   "execution_count": null,
   "metadata": {},
   "outputs": [],
   "source": [
    "result.diff().transpose().sort_values(by='2019-06-01',ascending=False)"
   ]
  },
  {
   "cell_type": "code",
   "execution_count": null,
   "metadata": {},
   "outputs": [],
   "source": [
    "diff=result.diff()\n",
    "ranked=diff.rank(axis=1,ascending=False)\n",
    "sorted=ranked.transpose().sort_values(by='2019-06-01',ascending=True)\n",
    "columns=sorted.index[0:30].tolist()"
   ]
  },
  {
   "cell_type": "code",
   "execution_count": null,
   "metadata": {},
   "outputs": [],
   "source": [
    "sres=result.transpose().sort_values(by='2019-06-01',ascending=False)\n",
    "rate=sres['2019-07-01']/sres['2019-05-01'] \n",
    "rate\n",
    "dd=pd.DataFrame()\n",
    "x=rate*500-500\n",
    "dd['benefit']=x\n",
    "dd['rate']=rate\n",
    "dd['2019-05-01']=sres['2019-05-01']\n",
    "dd['2019-06-01']=sres['2019-06-01']\n",
    "dd['2019-07-01']=sres['2019-07-01']\n",
    "dd.sort_values(by='benefit',ascending=False).head(30)"
   ]
  },
  {
   "cell_type": "code",
   "execution_count": null,
   "metadata": {},
   "outputs": [],
   "source": []
  },
  {
   "cell_type": "code",
   "execution_count": null,
   "metadata": {},
   "outputs": [],
   "source": [
    "result['CAV.AX']"
   ]
  },
  {
   "cell_type": "code",
   "execution_count": null,
   "metadata": {},
   "outputs": [],
   "source": [
    "invested=500/result*result.diff()\n",
    "\n",
    "ranked=invested.rank(axis=1,ascending=False)\n",
    "sorted=ranked.transpose().sort_values(by='2019-06-01',ascending=True)\n",
    "columns=sorted.index[0:30].tolist()\n",
    "columns"
   ]
  },
  {
   "cell_type": "code",
   "execution_count": null,
   "metadata": {},
   "outputs": [],
   "source": [
    "data=ds.resample('MS').mean()\n",
    "result=pd.DataFrame()\n",
    "for ticker in columns:\n",
    "    print(ticker)\n",
    "    res=forcastStocks(path+'parameters1.csv',ticker,data[ticker])\n",
    "    if(res is not None):\n",
    "        result[ticker]=res"
   ]
  },
  {
   "cell_type": "code",
   "execution_count": null,
   "metadata": {},
   "outputs": [],
   "source": []
  }
 ],
 "metadata": {
  "kernelspec": {
   "display_name": "Python 3",
   "language": "python",
   "name": "python3"
  },
  "language_info": {
   "codemirror_mode": {
    "name": "ipython",
    "version": 3
   },
   "file_extension": ".py",
   "mimetype": "text/x-python",
   "name": "python",
   "nbconvert_exporter": "python",
   "pygments_lexer": "ipython3",
   "version": "3.6.8"
  }
 },
 "nbformat": 4,
 "nbformat_minor": 2
}
