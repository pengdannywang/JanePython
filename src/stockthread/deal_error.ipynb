{
 "cells": [
  {
   "cell_type": "code",
   "execution_count": 8,
   "metadata": {},
   "outputs": [
    {
     "data": {
      "text/plain": [
       "793"
      ]
     },
     "execution_count": 8,
     "metadata": {},
     "output_type": "execute_result"
    }
   ],
   "source": [
    "# -*- coding: utf-8 -*-\n",
    "\n",
    "import pandas as pd\n",
    "import pandas_datareader.data as web   # Package and modules for importing data; this code may change depending on pandas version\n",
    "import datetime\n",
    "import numpy as np\n",
    "import os\n",
    "import random\n",
    "from datetime import timedelta\n",
    "import statsmodels.api as sm\n",
    "# SARIMAX example\n",
    "from statsmodels.tsa.statespace.sarimax import SARIMAX\n",
    "import sys, getopt\n",
    "path='/root/pythondev/JanePython/'\n",
    "inputfile = path+'Yahoo.xlsx'\n",
    "outputfile = 'stocks2.csv'\n",
    "\n",
    "errors=pd.DataFrame()\n",
    "errorpath=path+'errors.bak'\n",
    "errorexists=os.path.isfile(errorpath)\n",
    "if(errorexists):\n",
    "        errors=pd.read_csv(errorpath,index_col=0)\n",
    "        \n",
    "np.unique(errors.values.tolist()).size"
   ]
  },
  {
   "cell_type": "code",
   "execution_count": 9,
   "metadata": {},
   "outputs": [
    {
     "data": {
      "text/plain": [
       "793"
      ]
     },
     "execution_count": 9,
     "metadata": {},
     "output_type": "execute_result"
    }
   ],
   "source": [
    "len(errors)"
   ]
  },
  {
   "cell_type": "code",
   "execution_count": 13,
   "metadata": {},
   "outputs": [],
   "source": [
    "import json\n",
    "errlist=list(np.unique(errors.values.tolist()))\n",
    "errpath=path+'errors.txt'\n",
    "with open(errpath, 'w') as filehandle:  \n",
    "    json.dump(errlist, filehandle)"
   ]
  },
  {
   "cell_type": "code",
   "execution_count": 14,
   "metadata": {},
   "outputs": [],
   "source": [
    "with open(errpath, 'r') as filehandle:  \n",
    "    basicList = json.load(filehandle)"
   ]
  },
  {
   "cell_type": "code",
   "execution_count": 19,
   "metadata": {},
   "outputs": [
    {
     "data": {
      "text/plain": [
       "793"
      ]
     },
     "execution_count": 19,
     "metadata": {},
     "output_type": "execute_result"
    }
   ],
   "source": [
    "len(set(basicList))"
   ]
  },
  {
   "cell_type": "code",
   "execution_count": null,
   "metadata": {},
   "outputs": [],
   "source": []
  }
 ],
 "metadata": {
  "kernelspec": {
   "display_name": "Python 3",
   "language": "python",
   "name": "python3"
  },
  "language_info": {
   "codemirror_mode": {
    "name": "ipython",
    "version": 3
   },
   "file_extension": ".py",
   "mimetype": "text/x-python",
   "name": "python",
   "nbconvert_exporter": "python",
   "pygments_lexer": "ipython3",
   "version": "3.6.3"
  }
 },
 "nbformat": 4,
 "nbformat_minor": 2
}
