{
 "cells": [
  {
   "cell_type": "code",
   "execution_count": null,
   "metadata": {},
   "outputs": [],
   "source": []
  },
  {
   "cell_type": "code",
   "execution_count": null,
   "metadata": {},
   "outputs": [],
   "source": []
  },
  {
   "cell_type": "code",
   "execution_count": 3,
   "metadata": {},
   "outputs": [
    {
     "data": {
      "text/plain": [
       "Date\n",
       "2017-01-19    106.718002\n",
       "2017-01-22    106.718002\n",
       "2017-01-23    106.741997\n",
       "2017-01-24    106.028999\n",
       "2017-01-26    104.630997\n",
       "2017-01-29    104.942001\n",
       "2017-01-30    105.880997\n",
       "2017-01-31    105.684998\n",
       "2017-02-01    106.287003\n",
       "2017-02-02    106.380997\n",
       "2017-02-05    107.137001\n",
       "2017-02-06    110.475998\n",
       "2017-02-07    109.545998\n",
       "2017-02-08    109.890999\n",
       "2017-02-09    107.347000\n",
       "2017-02-12    109.155998\n",
       "2017-02-13    111.467003\n",
       "2017-02-14    109.514000\n",
       "2017-02-15    110.027000\n",
       "2017-02-16    109.702003\n",
       "2017-02-19    109.975998\n",
       "2017-02-20    109.967003\n",
       "2017-02-21    110.994003\n",
       "2017-02-22    111.962997\n",
       "2017-02-23    111.216003\n",
       "2017-02-26    111.380997\n",
       "2017-02-27    110.410004\n",
       "2017-02-28    109.816002\n",
       "2017-03-01    109.714996\n",
       "2017-03-02    109.307999\n",
       "                 ...    \n",
       "2019-04-01    170.940002\n",
       "2019-04-02    171.419998\n",
       "2019-04-03    171.139999\n",
       "2019-04-04    170.289993\n",
       "2019-04-08    171.860001\n",
       "2019-04-09    171.160004\n",
       "2019-04-10    171.779999\n",
       "2019-04-11    171.910004\n",
       "2019-04-12    170.750000\n",
       "2019-04-15    169.250000\n",
       "2019-04-16    169.229996\n",
       "2019-04-17    167.020004\n",
       "2019-04-18    166.729996\n",
       "2019-04-23    168.259995\n",
       "2019-04-24    169.899994\n",
       "2019-04-26    171.500000\n",
       "2019-04-29    171.600006\n",
       "2019-04-30    171.740005\n",
       "2019-05-01    170.820007\n",
       "2019-05-02    170.750000\n",
       "2019-05-06    172.880005\n",
       "2019-05-07    171.429993\n",
       "2019-05-08    172.649994\n",
       "2019-05-09    172.860001\n",
       "2019-05-10    173.250000\n",
       "2019-05-13    173.279999\n",
       "2019-05-14    175.740005\n",
       "2019-05-15    176.009995\n",
       "2019-05-16    176.410004\n",
       "2019-05-20    174.020004\n",
       "Name: Adj Close, Length: 585, dtype: float64"
      ]
     },
     "execution_count": 3,
     "metadata": {},
     "output_type": "execute_result"
    }
   ],
   "source": [
    "import datetime\n",
    "import pandas_datareader.data as web\n",
    "from sarimaxModel import sarimaxPrdict\n",
    "from sarimaxModel import quickParameters\n",
    "from sarimaxModel import selectParameters\n",
    "from sarimaxModel import predictbyticker\n",
    "import pandas as pd\n",
    "from sarimaxModel import forcastStocks\n",
    "from loadstocks import loadStocksByTickers\n",
    "from loadstocks import loadAuNotNaTickersFromYahooExcel\n",
    "from sarimaxModel import predictbyticker\n",
    "import pandas as pd\n",
    "from sarimaxModel import forcastStocks\n",
    "from loadstocks import loadStocksByTickers\n",
    "from loadstocks import loadAuNotNaTickersFromYahooExcel\n",
    "# We will look at stock prices over the past year, starting at January 1, 2016\n",
    "\n",
    "\n",
    "ticker='GOLD.AX'\n",
    "months=12\n",
    "end = datetime.date.today()\n",
    "day=end.day\n",
    "year=end.year-months//12-1\n",
    "month=months%12+1\n",
    "start=datetime.datetime(year,month,day)\n",
    "\n",
    "data=web.DataReader(ticker,\"yahoo\",start,end)['Adj Close']   \n",
    "\n",
    "#y=data.resample('MS').mean()\n",
    "\n",
    "#parameters=quickParameters(paramPath,ticker,y,steps=2,disp=False)\n",
    "#parameters=selectParameters(ticker,y,steps=2,disp=True)\n",
    "#['8CO.AX', 0, 0, 0, 0, 0, 0, 12, 't', -7.909122119923726, 0.03528654153968552]\n",
    "\n",
    "#parameters=['MFG.AX', 0, 0, 1, 0, 1, 0, 12, 'n', 321.3071720270583, 0.486377988114156]\n",
    "data"
   ]
  },
  {
   "cell_type": "code",
   "execution_count": 5,
   "metadata": {},
   "outputs": [
    {
     "name": "stdout",
     "output_type": "stream",
     "text": [
      "[]\n"
     ]
    }
   ],
   "source": [
    "y=data.resample('C').mean()\n",
    "\n",
    "#parameters=quickParameters(paramPath,ticker,y,steps=2,disp=False)\n",
    "parameters=selectParameters(ticker,y,steps=3,disp=False)"
   ]
  },
  {
   "cell_type": "code",
   "execution_count": null,
   "metadata": {},
   "outputs": [],
   "source": [
    "import statsmodels.api as sm\n",
    "import os\n",
    "# SARIMAX example\n",
    "from statsmodels.tsa.statespace.sarimax import SARIMAX\n",
    "import matplotlib.pylab as plt\n",
    "from sklearn.metrics import mean_squared_error\n",
    "steps=3\n",
    "\n",
    "train_y, test_y = y[:-steps], y[-steps:]\n",
    "\n",
    "p1,p2,t=parameters[1:4],parameters[4:8],parameters[8]\n",
    "print(p1,p2,t)\n",
    "model = SARIMAX(train_y,\n",
    "     order=p1,\n",
    "     seasonal_order=p2,\n",
    "     trend=t,\n",
    "     enforce_stationarity=False,\n",
    "     enforce_invertibility=False)\n",
    "\n",
    "model_fit = model.fit(disp=False)\n",
    "\n",
    "forcast=model_fit.forecast(steps=len(test_y))\n",
    " \n",
    "pred_ci=pd.DataFrame(index=forcast.index)\n",
    "pred_ci['low'] = forcast-forcast*0.05\n",
    "pred_ci['upper'] = forcast+forcast*0.05\n",
    "\n",
    "\n",
    "#pred_ci.loc[y.index[-1]]=[y[-1],y[-1]]\n",
    "#pred_ci=pred_ci.sort_index()\n",
    "ax = y['2019-01-01':].plot(label='observed')\n",
    "forcast.plot(ax=ax, label='Forecast', alpha=.7)\n",
    "\n",
    "ax.fill_between(forcast.index,\n",
    "                pred_ci.iloc[:,0],\n",
    "                pred_ci.iloc[:,1], color='k', alpha=.1)\n",
    "\n",
    "ax.set_xlabel('Date')\n",
    "ax.set_ylabel(ticker)\n",
    "plt.legend()\n",
    "\n",
    "plt.show()\n",
    "print(train_y)\n",
    "print(test_y)\n",
    "print(forcast) "
   ]
  },
  {
   "cell_type": "code",
   "execution_count": null,
   "metadata": {},
   "outputs": [],
   "source": [
    "\n",
    "if( len(parameters)>0):\n",
    "    \n",
    "    p1,p2,t=parameters[1:4],parameters[4:8],parameters[8]\n",
    "    result=sarimaxPrdict(ticker,y,p1,p2,t,steps=5,disp=True,days=20)\n",
    "else:\n",
    "    print(\"wrong parameters\",len(parameters))"
   ]
  },
  {
   "cell_type": "code",
   "execution_count": null,
   "metadata": {},
   "outputs": [],
   "source": [
    "result"
   ]
  },
  {
   "cell_type": "code",
   "execution_count": null,
   "metadata": {},
   "outputs": [],
   "source": []
  }
 ],
 "metadata": {
  "kernelspec": {
   "display_name": "Python 3",
   "language": "python",
   "name": "python3"
  },
  "language_info": {
   "codemirror_mode": {
    "name": "ipython",
    "version": 3
   },
   "file_extension": ".py",
   "mimetype": "text/x-python",
   "name": "python",
   "nbconvert_exporter": "python",
   "pygments_lexer": "ipython3",
   "version": "3.6.8"
  }
 },
 "nbformat": 4,
 "nbformat_minor": 2
}
