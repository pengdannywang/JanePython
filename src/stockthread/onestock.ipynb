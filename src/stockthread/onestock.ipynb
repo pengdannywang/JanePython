{
 "cells": [
  {
   "cell_type": "code",
   "execution_count": null,
   "metadata": {},
   "outputs": [],
   "source": []
  },
  {
   "cell_type": "code",
   "execution_count": null,
   "metadata": {},
   "outputs": [],
   "source": []
  },
  {
   "cell_type": "code",
   "execution_count": 1,
   "metadata": {},
   "outputs": [],
   "source": [
    "import datetime\n",
    "import pandas_datareader.data as web\n",
    "from sarimaxModel import sarimaxPrdict\n",
    "from sarimaxModel import quickParameters\n",
    "from sarimaxModel import selectParameters\n",
    "from sarimaxModel import predictbyticker\n",
    "import pandas as pd\n",
    "from sarimaxModel import forcastStocks\n",
    "from loadstocks import loadStocksByTickers\n",
    "from loadstocks import loadAuNotNaTickersFromYahooExcel\n",
    "from sarimaxModel import predictbyticker\n",
    "import pandas as pd\n",
    "from sarimaxModel import forcastStocks\n",
    "from loadstocks import loadStocksByTickers\n",
    "from loadstocks import loadAuNotNaTickersFromYahooExcel\n",
    "# We will look at stock prices over the past year, starting at January 1, 2016\n",
    "\n",
    "\n",
    "ticker='ANO.AX'\n",
    "months=12\n",
    "end = datetime.date.today()\n",
    "day=end.day\n",
    "year=end.year-months//12-1\n",
    "month=months%12+1\n",
    "start=datetime.datetime(year,month,day)\n",
    "\n",
    "data=web.DataReader(ticker,\"yahoo\",start,end)['Adj Close']   \n",
    "\n",
    "#y=data.resample('MS').mean()\n",
    "\n",
    "#parameters=quickParameters(paramPath,ticker,y,steps=2,disp=False)\n",
    "#parameters=selectParameters(ticker,y,steps=2,disp=True)\n",
    "#['8CO.AX', 0, 0, 0, 0, 0, 0, 12, 't', -7.909122119923726, 0.03528654153968552]\n",
    "\n",
    "#parameters=['MFG.AX', 0, 0, 1, 0, 1, 0, 12, 'n', 321.3071720270583, 0.486377988114156]\n",
    "#data=data['2019-04-01':]"
   ]
  },
  {
   "cell_type": "code",
   "execution_count": 2,
   "metadata": {},
   "outputs": [
    {
     "name": "stdout",
     "output_type": "stream",
     "text": [
      "['ANO.AX', 0, 0, 1, 1, 1, 1, 12, 'c', 102.71167434886918, 0.03920621688120818]\n"
     ]
    }
   ],
   "source": [
    "y=data.resample('W').mean()\n",
    "steps=1\n",
    "#parameters=quickParameters(paramPath,ticker,y,steps=2,disp=False)\n",
    "parameters=selectParameters(ticker,y,steps=steps,disp=False)"
   ]
  },
  {
   "cell_type": "code",
   "execution_count": 7,
   "metadata": {},
   "outputs": [
    {
     "name": "stdout",
     "output_type": "stream",
     "text": [
      "[0, 0, 1] [1, 1, 1, 12] c\n"
     ]
    }
   ],
   "source": [
    "y=data.resample('W').mean()\n",
    "import statsmodels.api as sm\n",
    "import os\n",
    "# SARIMAX example\n",
    "from statsmodels.tsa.statespace.sarimax import SARIMAX\n",
    "import matplotlib.pylab as plt\n",
    "from sklearn.metrics import mean_squared_error\n",
    "\n",
    "\n",
    "train_y, test_y = y[:-steps], y[-steps:]\n",
    "\n",
    "p1,p2,t=parameters[1:4],parameters[4:8],parameters[8]\n",
    "print(p1,p2,t)\n",
    "model = SARIMAX(train_y,\n",
    "     order=p1,\n",
    "     seasonal_order=p2,\n",
    "     trend=t,\n",
    "     enforce_stationarity=False,\n",
    "     enforce_invertibility=False)\n",
    "\n",
    "model_fit = model.fit(disp=False)\n",
    "\n",
    "forcast=model_fit.forecast(steps=len(test_y))\n",
    "\n"
   ]
  },
  {
   "cell_type": "code",
   "execution_count": 8,
   "metadata": {},
   "outputs": [
    {
     "name": "stdout",
     "output_type": "stream",
     "text": [
      "Date\n",
      "2017-01-29    0.284795\n",
      "2017-02-05    0.295784\n",
      "2017-02-12    0.295784\n",
      "2017-02-19    0.271802\n",
      "2017-02-26    0.257812\n",
      "2017-03-05    0.257812\n",
      "2017-03-12    0.279798\n",
      "2017-03-19    0.273800\n",
      "2017-03-26    0.265804\n",
      "2017-04-02    0.262308\n",
      "2017-04-09    0.275800\n",
      "2017-04-16    0.272300\n",
      "2017-04-23    0.269800\n",
      "2017-04-30    0.277300\n",
      "2017-05-07    0.265804\n",
      "2017-05-14    0.259810\n",
      "2017-05-21    0.263806\n",
      "2017-05-28    0.259810\n",
      "2017-06-04    0.259810\n",
      "2017-06-11    0.259810\n",
      "2017-06-18    0.244825\n",
      "2017-06-25    0.257812\n",
      "2017-07-02    0.239830\n",
      "2017-07-09    0.269804\n",
      "2017-07-16    0.289790\n",
      "2017-07-23    0.313772\n",
      "2017-07-30    0.323766\n",
      "2017-08-06    0.311774\n",
      "2017-08-13    0.303778\n",
      "2017-08-20    0.293786\n",
      "                ...   \n",
      "2018-10-28    0.873368\n",
      "2018-11-04    0.886360\n",
      "2018-11-11    0.889356\n",
      "2018-11-18    0.908342\n",
      "2018-11-25    0.889356\n",
      "2018-12-02    0.895354\n",
      "2018-12-09    0.904344\n",
      "2018-12-16    0.876872\n",
      "2018-12-23    0.899000\n",
      "2018-12-30    0.905000\n",
      "2019-01-06    0.946250\n",
      "2019-01-13    1.161000\n",
      "2019-01-20    1.179000\n",
      "2019-01-27    1.278750\n",
      "2019-02-03    1.452000\n",
      "2019-02-10    1.838000\n",
      "2019-02-17    2.176000\n",
      "2019-02-24    1.891000\n",
      "2019-03-03    2.184000\n",
      "2019-03-10    2.840000\n",
      "2019-03-17    3.586000\n",
      "2019-03-24    3.458000\n",
      "2019-03-31    3.584000\n",
      "2019-04-07    4.382500\n",
      "2019-04-14    4.482000\n",
      "2019-04-21    4.202500\n",
      "2019-04-28    4.103333\n",
      "2019-05-05    4.684000\n",
      "2019-05-12    4.512000\n",
      "2019-05-19    4.628000\n",
      "Freq: W-SUN, Name: Adj Close, Length: 121, dtype: float64\n",
      "Date\n",
      "2019-05-26    5.77\n",
      "Freq: W-SUN, Name: Adj Close, dtype: float64\n",
      "2019-05-26    5.730794\n",
      "Freq: W-SUN, dtype: float64\n"
     ]
    },
    {
     "data": {
      "image/png": "[encoded data removed]",
      "text/plain": [
       "<Figure size 432x288 with 1 Axes>"
      ]
     },
     "metadata": {
      "needs_background": "light"
     },
     "output_type": "display_data"
    }
   ],
   "source": [
    "print(train_y)\n",
    "print(test_y)\n",
    "print(forcast) \n",
    "if( len(parameters)>0):\n",
    "    \n",
    "    p1,p2,t=parameters[1:4],parameters[4:8],parameters[8]\n",
    "    result=sarimaxPrdict(ticker,y,p1,p2,t,steps=10,disp=True,days=50)\n",
    "else:\n",
    "    print(\"wrong parameters\",len(parameters))"
   ]
  },
  {
   "cell_type": "code",
   "execution_count": 9,
   "metadata": {},
   "outputs": [
    {
     "data": {
      "text/html": [
       "<div>\n",
       "<style scoped>\n",
       "    .dataframe tbody tr th:only-of-type {\n",
       "        vertical-align: middle;\n",
       "    }\n",
       "\n",
       "    .dataframe tbody tr th {\n",
       "        vertical-align: top;\n",
       "    }\n",
       "\n",
       "    .dataframe thead th {\n",
       "        text-align: right;\n",
       "    }\n",
       "</style>\n",
       "<table border=\"1\" class=\"dataframe\">\n",
       "  <thead>\n",
       "    <tr style=\"text-align: right;\">\n",
       "      <th></th>\n",
       "      <th>ANO.AX</th>\n",
       "    </tr>\n",
       "  </thead>\n",
       "  <tbody>\n",
       "    <tr>\n",
       "      <th>2019-05-26</th>\n",
       "      <td>5.770000</td>\n",
       "    </tr>\n",
       "    <tr>\n",
       "      <th>2019-06-02</th>\n",
       "      <td>6.743414</td>\n",
       "    </tr>\n",
       "    <tr>\n",
       "      <th>2019-06-09</th>\n",
       "      <td>8.667770</td>\n",
       "    </tr>\n",
       "    <tr>\n",
       "      <th>2019-06-16</th>\n",
       "      <td>8.330765</td>\n",
       "    </tr>\n",
       "    <tr>\n",
       "      <th>2019-06-23</th>\n",
       "      <td>8.664993</td>\n",
       "    </tr>\n",
       "    <tr>\n",
       "      <th>2019-06-30</th>\n",
       "      <td>10.683949</td>\n",
       "    </tr>\n",
       "    <tr>\n",
       "      <th>2019-07-07</th>\n",
       "      <td>10.934366</td>\n",
       "    </tr>\n",
       "    <tr>\n",
       "      <th>2019-07-14</th>\n",
       "      <td>10.168951</td>\n",
       "    </tr>\n",
       "    <tr>\n",
       "      <th>2019-07-21</th>\n",
       "      <td>9.868428</td>\n",
       "    </tr>\n",
       "    <tr>\n",
       "      <th>2019-07-28</th>\n",
       "      <td>11.271545</td>\n",
       "    </tr>\n",
       "    <tr>\n",
       "      <th>2019-08-04</th>\n",
       "      <td>10.769784</td>\n",
       "    </tr>\n",
       "  </tbody>\n",
       "</table>\n",
       "</div>"
      ],
      "text/plain": [
       "               ANO.AX\n",
       "2019-05-26   5.770000\n",
       "2019-06-02   6.743414\n",
       "2019-06-09   8.667770\n",
       "2019-06-16   8.330765\n",
       "2019-06-23   8.664993\n",
       "2019-06-30  10.683949\n",
       "2019-07-07  10.934366\n",
       "2019-07-14  10.168951\n",
       "2019-07-21   9.868428\n",
       "2019-07-28  11.271545\n",
       "2019-08-04  10.769784"
      ]
     },
     "execution_count": 9,
     "metadata": {},
     "output_type": "execute_result"
    }
   ],
   "source": [
    "result\n",
    "sres=pd.DataFrame()\n",
    "sres[ticker]=result\n",
    "sres"
   ]
  },
  {
   "cell_type": "code",
   "execution_count": 10,
   "metadata": {},
   "outputs": [
    {
     "data": {
      "text/html": [
       "<div>\n",
       "<style scoped>\n",
       "    .dataframe tbody tr th:only-of-type {\n",
       "        vertical-align: middle;\n",
       "    }\n",
       "\n",
       "    .dataframe tbody tr th {\n",
       "        vertical-align: top;\n",
       "    }\n",
       "\n",
       "    .dataframe thead th {\n",
       "        text-align: right;\n",
       "    }\n",
       "</style>\n",
       "<table border=\"1\" class=\"dataframe\">\n",
       "  <thead>\n",
       "    <tr style=\"text-align: right;\">\n",
       "      <th></th>\n",
       "      <th>benefit</th>\n",
       "      <th>rate</th>\n",
       "      <th>2019-05-26 00:00:00</th>\n",
       "      <th>2019-07-28 00:00:00</th>\n",
       "      <th>2019-08-04 00:00:00</th>\n",
       "    </tr>\n",
       "  </thead>\n",
       "  <tbody>\n",
       "    <tr>\n",
       "      <th>ANO.AX</th>\n",
       "      <td>433.256878</td>\n",
       "      <td>1.866514</td>\n",
       "      <td>9.868428</td>\n",
       "      <td>11.271545</td>\n",
       "      <td>10.769784</td>\n",
       "    </tr>\n",
       "  </tbody>\n",
       "</table>\n",
       "</div>"
      ],
      "text/plain": [
       "           benefit      rate  2019-05-26 00:00:00  2019-07-28 00:00:00  \\\n",
       "ANO.AX  433.256878  1.866514             9.868428            11.271545   \n",
       "\n",
       "        2019-08-04 00:00:00  \n",
       "ANO.AX            10.769784  "
      ]
     },
     "execution_count": 10,
     "metadata": {},
     "output_type": "execute_result"
    }
   ],
   "source": [
    "sres=sres.transpose()\n",
    "rate=sres[sres.columns[-1]]/sres[sres.columns[0]]\n",
    "rate\n",
    "dd=pd.DataFrame()\n",
    "x=rate*500-500\n",
    "dd['benefit']=x\n",
    "dd['rate']=rate\n",
    "dd[sres.columns[-0]]=sres[sres.columns[-3]]\n",
    "dd[sres.columns[-2]]=sres[sres.columns[-2]]\n",
    "dd[sres.columns[-1]]=sres[sres.columns[-1]]\n",
    "\n",
    "\n",
    "dd.sort_values(by='benefit',ascending=False).head(300)\n"
   ]
  },
  {
   "cell_type": "code",
   "execution_count": null,
   "metadata": {},
   "outputs": [],
   "source": []
  }
 ],
 "metadata": {
  "kernelspec": {
   "display_name": "Python 3",
   "language": "python",
   "name": "python3"
  },
  "language_info": {
   "codemirror_mode": {
    "name": "ipython",
    "version": 3
   },
   "file_extension": ".py",
   "mimetype": "text/x-python",
   "name": "python",
   "nbconvert_exporter": "python",
   "pygments_lexer": "ipython3",
   "version": "3.6.8"
  }
 },
 "nbformat": 4,
 "nbformat_minor": 2
}
