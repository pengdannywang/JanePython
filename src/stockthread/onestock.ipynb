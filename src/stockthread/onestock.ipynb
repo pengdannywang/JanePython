{
 "cells": [
  {
   "cell_type": "code",
   "execution_count": null,
   "metadata": {},
   "outputs": [],
   "source": []
  },
  {
   "cell_type": "code",
   "execution_count": null,
   "metadata": {},
   "outputs": [],
   "source": [
    "from sarimaxModel import predictbyticker\n",
    "import pandas as pd\n",
    "from sarimaxModel import forcastStocks\n",
    "from loadstocks import loadStocksByTickers\n",
    "from loadstocks import loadAuNotNaTickersFromYahooExcel\n",
    "# We will look at stock prices over the past year, starting at January 1, 2016\n",
    "\n",
    "path='/Users/pengwang/PycharmProjects/JanePython/'\n",
    "inputfile = path+'Yahoo.xlsx'\n",
    "outputfile = 'stocks2.csv'\n",
    "ticker='ASX.AX'\n",
    "\n",
    "result=predictbyticker(ticker,period='B',steps=7,disp=True)\n",
    "\n",
    "result"
   ]
  },
  {
   "cell_type": "code",
   "execution_count": null,
   "metadata": {},
   "outputs": [],
   "source": [
    "import datetime\n",
    "import pandas_datareader.data as web\n",
    "from sarimaxModel import sarimaxPrdict\n",
    "from sarimaxModel import quickParameters\n",
    "from sarimaxModel import selectParameters\n",
    "from sarimaxModel import predictbyticker\n",
    "import pandas as pd\n",
    "from sarimaxModel import forcastStocks\n",
    "from loadstocks import loadStocksByTickers\n",
    "from loadstocks import loadAuNotNaTickersFromYahooExcel\n",
    "months=12\n",
    "end = datetime.date.today()\n",
    "day=end.day\n",
    "year=end.year-months//12-1\n",
    "month=months%12+1\n",
    "start=datetime.datetime(year,month,day)\n",
    "ticker='ASX.AX'\n",
    "y=web.DataReader(ticker,\"yahoo\",start,end)['Adj Close']   \n",
    "y=y['2019-01-01':]\n",
    "y=y.resample('W').mean()\n",
    "path='/Users/pengwang/PycharmProjects/JanePython/'\n",
    "paramPath=path+'parameters.csv'\n",
    "#parameters=quickParameters(paramPath,ticker,y,steps=2,disp=False)\n",
    "parameters=selectParameters(ticker,y,steps=2,disp=True)\n",
    "#parameters=[ticker, 1, 0, 1, 1, 0, 0, 12, 'ct', 93.64345367611821, 0.004347129789365355]\n",
    "\n",
    "#parameters=['MFG.AX', 0, 0, 1, 0, 1, 0, 12, 'n', 321.3071720270583, 0.486377988114156]\n"
   ]
  },
  {
   "cell_type": "code",
   "execution_count": null,
   "metadata": {},
   "outputs": [],
   "source": [
    "import statsmodels.api as sm\n",
    "import os\n",
    "# SARIMAX example\n",
    "from statsmodels.tsa.statespace.sarimax import SARIMAX\n",
    "import matplotlib.pylab as plt\n",
    "from sklearn.metrics import mean_squared_error\n",
    "steps=6\n",
    "train_y, test_y = y[:-steps], y[-steps:]\n",
    "p1,p2,t=parameters[1:4],parameters[4:8],parameters[8]\n",
    "model = SARIMAX(train_y,\n",
    "     order=p1,\n",
    "     seasonal_order=p2,\n",
    "     trend=t,\n",
    "     enforce_stationarity=False,\n",
    "     enforce_invertibility=False)\n",
    "\n",
    "model_fit = model.fit(disp=False)\n",
    "\n",
    "forcast=model_fit.forecast(steps=len(test_y))\n",
    "if True:  \n",
    "        pred_ci=pd.DataFrame(index=forcast.index)\n",
    "        pred_ci['low'] = forcast-forcast*0.05\n",
    "        pred_ci['upper'] = forcast+forcast*0.05\n",
    "        \n",
    "     \n",
    "        #pred_ci.loc[y.index[-1]]=[y[-1],y[-1]]\n",
    "        #pred_ci=pred_ci.sort_index()\n",
    "        ax = y['2019-01-01':].plot(label='observed')\n",
    "        forcast.plot(ax=ax, label='Forecast', alpha=.7)\n",
    "        \n",
    "        ax.fill_between(forcast.index,\n",
    "                        pred_ci.iloc[:,0],\n",
    "                        pred_ci.iloc[:,1], color='k', alpha=.1)\n",
    "        \n",
    "        ax.set_xlabel('Date')\n",
    "        ax.set_ylabel(ticker)\n",
    "        plt.legend()\n",
    "        \n",
    "        plt.show()\n"
   ]
  },
  {
   "cell_type": "code",
   "execution_count": null,
   "metadata": {},
   "outputs": [],
   "source": [
    "\n",
    "if( len(parameters)>0):\n",
    "    \n",
    "    p1,p2,t=parameters[1:4],parameters[4:8],parameters[8]\n",
    "    result=sarimaxPrdict(ticker,y,p1,p2,t,steps=5,disp=True,days=20)\n",
    "else:\n",
    "    print(\"wrong parameters\",len(parameters))"
   ]
  },
  {
   "cell_type": "code",
   "execution_count": null,
   "metadata": {},
   "outputs": [],
   "source": []
  },
  {
   "cell_type": "code",
   "execution_count": 5,
   "metadata": {},
   "outputs": [],
   "source": [
    "def get_technical_indicators(dataset,ticker):\n",
    "    # Create 7 and 21 days Moving Average\n",
    "    dataset['ma7'] = dataset[ticker].rolling(window=7).mean()\n",
    "    dataset['ma21'] = dataset[ticker].rolling(window=21).mean()\n",
    "    \n",
    "    # Create MACD\n",
    "    dataset['26ema'] = pd.ewma(dataset[ticker], span=26)\n",
    "    dataset['12ema'] = pd.ewma(dataset[ticker], span=12)\n",
    "    dataset['MACD'] = (dataset['12ema']-dataset['26ema'])\n",
    "# Create Bollinger Bands\n",
    "    dataset['20sd'] = pd.stats.moments.rolling_std(dataset[ticker],20)\n",
    "    dataset['upper_band'] = dataset['ma21'] + (dataset['20sd']*2)\n",
    "    dataset['lower_band'] = dataset['ma21'] - (dataset['20sd']*2)\n",
    "    \n",
    "    # Create Exponential moving average\n",
    "    dataset['ema'] = dataset[ticker].ewm(com=0.5).mean()\n",
    "    \n",
    "    # Create Momentum\n",
    "    dataset['momentum'] = dataset[ticker]-1\n",
    "    \n",
    "    return dataset\n"
   ]
  },
  {
   "cell_type": "code",
   "execution_count": 1,
   "metadata": {},
   "outputs": [
    {
     "ename": "NameError",
     "evalue": "name 'get_technical_indicators' is not defined",
     "output_type": "error",
     "traceback": [
      "\u001b[0;31m---------------------------------------------------------------------------\u001b[0m",
      "\u001b[0;31mNameError\u001b[0m                                 Traceback (most recent call last)",
      "\u001b[0;32m<ipython-input-1-2ebc7a53f138>\u001b[0m in \u001b[0;36m<module>\u001b[0;34m\u001b[0m\n\u001b[1;32m     20\u001b[0m \u001b[0mdata\u001b[0m\u001b[0;34m=\u001b[0m\u001b[0mpd\u001b[0m\u001b[0;34m.\u001b[0m\u001b[0mDataFrame\u001b[0m\u001b[0;34m(\u001b[0m\u001b[0;34m)\u001b[0m\u001b[0;34m\u001b[0m\u001b[0;34m\u001b[0m\u001b[0m\n\u001b[1;32m     21\u001b[0m \u001b[0mdata\u001b[0m\u001b[0;34m[\u001b[0m\u001b[0mticker\u001b[0m\u001b[0;34m]\u001b[0m\u001b[0;34m=\u001b[0m\u001b[0my\u001b[0m\u001b[0;34m\u001b[0m\u001b[0;34m\u001b[0m\u001b[0m\n\u001b[0;32m---> 22\u001b[0;31m \u001b[0mget_technical_indicators\u001b[0m\u001b[0;34m(\u001b[0m\u001b[0mdata\u001b[0m\u001b[0;34m,\u001b[0m\u001b[0mticker\u001b[0m\u001b[0;34m)\u001b[0m\u001b[0;34m\u001b[0m\u001b[0;34m\u001b[0m\u001b[0m\n\u001b[0m",
      "\u001b[0;31mNameError\u001b[0m: name 'get_technical_indicators' is not defined"
     ]
    }
   ],
   "source": [
    "import datetime\n",
    "import pandas_datareader.data as web\n",
    "from sarimaxModel import sarimaxPrdict\n",
    "from sarimaxModel import quickParameters\n",
    "from sarimaxModel import selectParameters\n",
    "from sarimaxModel import predictbyticker\n",
    "import pandas as pd\n",
    "from sarimaxModel import forcastStocks\n",
    "from loadstocks import loadStocksByTickers\n",
    "from loadstocks import loadAuNotNaTickersFromYahooExcel\n",
    "months=12\n",
    "end = datetime.date.today()\n",
    "day=end.day\n",
    "year=end.year-months//12-1\n",
    "month=months%12+1\n",
    "start=datetime.datetime(year,month,day)\n",
    "ticker='ASX.AX'\n",
    "y=web.DataReader(ticker,\"yahoo\",start,end)['Adj Close']   \n",
    "\n",
    "data=pd.DataFrame()\n",
    "data[ticker]=y\n",
    "get_technical_indicators(data,ticker)"
   ]
  },
  {
   "cell_type": "code",
   "execution_count": null,
   "metadata": {},
   "outputs": [],
   "source": []
  }
 ],
 "metadata": {
  "kernelspec": {
   "display_name": "Python 3",
   "language": "python",
   "name": "python3"
  },
  "language_info": {
   "codemirror_mode": {
    "name": "ipython",
    "version": 3
   },
   "file_extension": ".py",
   "mimetype": "text/x-python",
   "name": "python",
   "nbconvert_exporter": "python",
   "pygments_lexer": "ipython3",
   "version": "3.7.1"
  }
 },
 "nbformat": 4,
 "nbformat_minor": 2
}
