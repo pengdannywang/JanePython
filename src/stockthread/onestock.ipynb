{
 "cells": [
  {
   "cell_type": "code",
   "execution_count": null,
   "metadata": {},
   "outputs": [],
   "source": []
  },
  {
   "cell_type": "code",
   "execution_count": null,
   "metadata": {},
   "outputs": [],
   "source": []
  },
  {
   "cell_type": "code",
   "execution_count": 15,
   "metadata": {},
   "outputs": [],
   "source": [
    "import datetime\n",
    "import pandas_datareader.data as web\n",
    "from sarimaxModel import sarimaxPrdict\n",
    "from sarimaxModel import quickParameters\n",
    "from sarimaxModel import selectParameters\n",
    "from sarimaxModel import predictbyticker\n",
    "import pandas as pd\n",
    "from sarimaxModel import forcastStocks\n",
    "from loadstocks import loadStocksByTickers\n",
    "from loadstocks import loadAuNotNaTickersFromYahooExcel\n",
    "from sarimaxModel import predictbyticker\n",
    "import pandas as pd\n",
    "from sarimaxModel import forcastStocks\n",
    "from loadstocks import loadStocksByTickers\n",
    "from loadstocks import loadAuNotNaTickersFromYahooExcel\n",
    "# We will look at stock prices over the past year, starting at January 1, 2016\n",
    "\n",
    "\n",
    "ticker='WEB.AX'\n",
    "months=12\n",
    "end = datetime.date.today()\n",
    "day=end.day\n",
    "year=end.year-months//12-1\n",
    "month=months%12+1\n",
    "start=datetime.datetime(year,month,day)\n",
    "\n",
    "data=web.DataReader(ticker,\"yahoo\",start,end)['Adj Close']   \n",
    "\n",
    "#y=data.resample('MS').mean()\n",
    "\n",
    "#parameters=quickParameters(paramPath,ticker,y,steps=2,disp=False)\n",
    "#parameters=selectParameters(ticker,y,steps=2,disp=True)\n",
    "#['8CO.AX', 0, 0, 0, 0, 0, 0, 12, 't', -7.909122119923726, 0.03528654153968552]\n",
    "\n",
    "#parameters=['MFG.AX', 0, 0, 1, 0, 1, 0, 12, 'n', 321.3071720270583, 0.486377988114156]\n",
    "#data=data['2019-04-01':]"
   ]
  },
  {
   "cell_type": "code",
   "execution_count": 16,
   "metadata": {},
   "outputs": [
    {
     "name": "stdout",
     "output_type": "stream",
     "text": [
      "['WEB.AX', 1, 0, 1, 1, 0, 1, 12, 't', 188.65530721886577, 0.0008631961279128575]\n"
     ]
    }
   ],
   "source": [
    "y=data.resample('W').mean()\n",
    "steps=1\n",
    "#parameters=quickParameters(paramPath,ticker,y,steps=2,disp=False)\n",
    "parameters=selectParameters(ticker,y,steps=steps,disp=False)"
   ]
  },
  {
   "cell_type": "code",
   "execution_count": 17,
   "metadata": {},
   "outputs": [
    {
     "name": "stdout",
     "output_type": "stream",
     "text": [
      "[0, 1, 1] [0, 1, 0, 12] c\n"
     ]
    }
   ],
   "source": [
    "y=data.resample('C').mean()\n",
    "import statsmodels.api as sm\n",
    "import os\n",
    "# SARIMAX example\n",
    "from statsmodels.tsa.statespace.sarimax import SARIMAX\n",
    "import matplotlib.pylab as plt\n",
    "from sklearn.metrics import mean_squared_error\n",
    "\n",
    "parameters=['ppt',0, 1, 1, 0, 1, 0, 12, 'c', 326.76616829469526, 0.011332736767066365]\n",
    "train_y, test_y = y[:-steps], y[-steps:]\n",
    "\n",
    "p1,p2,t=parameters[1:4],parameters[4:8],parameters[8]\n",
    "print(p1,p2,t)\n",
    "model = SARIMAX(train_y,\n",
    "     order=p1,\n",
    "     seasonal_order=p2,\n",
    "     trend=t,\n",
    "     enforce_stationarity=False,\n",
    "     enforce_invertibility=False)\n",
    "\n",
    "model_fit = model.fit(disp=False)\n",
    "\n",
    "forcast=model_fit.forecast(steps=len(test_y))\n",
    "\n"
   ]
  },
  {
   "cell_type": "code",
   "execution_count": 18,
   "metadata": {},
   "outputs": [
    {
     "name": "stdout",
     "output_type": "stream",
     "text": [
      "Date\n",
      "2017-01-26    10.517467\n",
      "2017-01-27    10.611534\n",
      "2017-01-30    10.611534\n",
      "2017-01-31    10.696145\n",
      "2017-02-01    10.724413\n",
      "2017-02-02    10.743227\n",
      "2017-02-03    10.771398\n",
      "2017-02-06    10.677331\n",
      "2017-02-07    10.818480\n",
      "2017-02-08    10.771398\n",
      "2017-02-09    10.818480\n",
      "2017-02-10    10.884277\n",
      "2017-02-13    10.865464\n",
      "2017-02-14    10.827838\n",
      "2017-02-15    10.987799\n",
      "2017-02-16    10.818480\n",
      "2017-02-17    10.827838\n",
      "2017-02-20    10.837292\n",
      "2017-02-21    10.846652\n",
      "2017-02-22    11.044238\n",
      "2017-02-23    10.959531\n",
      "2017-02-24    10.912545\n",
      "2017-02-27    10.630347\n",
      "2017-02-28    10.479840\n",
      "2017-03-01    10.555094\n",
      "2017-03-02    10.517467\n",
      "2017-03-03    10.536281\n",
      "2017-03-06    10.573907\n",
      "2017-03-07    10.376321\n",
      "2017-03-08    10.310425\n",
      "                ...    \n",
      "2019-04-15    15.780000\n",
      "2019-04-16    16.150000\n",
      "2019-04-17    16.610001\n",
      "2019-04-18    16.549999\n",
      "2019-04-19          NaN\n",
      "2019-04-22          NaN\n",
      "2019-04-23    16.650000\n",
      "2019-04-24    16.790001\n",
      "2019-04-25          NaN\n",
      "2019-04-26    16.740000\n",
      "2019-04-29    16.740000\n",
      "2019-04-30    16.860001\n",
      "2019-05-01    16.750000\n",
      "2019-05-02    16.840000\n",
      "2019-05-03    16.540001\n",
      "2019-05-06    16.420000\n",
      "2019-05-07    16.600000\n",
      "2019-05-08    16.540001\n",
      "2019-05-09    16.570000\n",
      "2019-05-10    16.620001\n",
      "2019-05-13    16.450001\n",
      "2019-05-14    16.219999\n",
      "2019-05-15    16.580000\n",
      "2019-05-16    16.870001\n",
      "2019-05-17    16.799999\n",
      "2019-05-20    15.500000\n",
      "2019-05-21    15.170000\n",
      "2019-05-22    15.300000\n",
      "2019-05-23    15.450000\n",
      "2019-05-24    15.010000\n",
      "Freq: C, Name: Adj Close, Length: 607, dtype: float64\n",
      "Date\n",
      "2019-05-27    15.04\n",
      "Freq: C, Name: Adj Close, dtype: float64\n",
      "2019-05-27    15.010134\n",
      "Freq: C, dtype: float64\n"
     ]
    },
    {
     "data": {
      "image/png": "[encoded data removed]",
      "text/plain": [
       "<Figure size 432x288 with 1 Axes>"
      ]
     },
     "metadata": {
      "needs_background": "light"
     },
     "output_type": "display_data"
    }
   ],
   "source": [
    "print(train_y)\n",
    "print(test_y)\n",
    "print(forcast) \n",
    "if( len(parameters)>0):\n",
    "    \n",
    "    p1,p2,t=parameters[1:4],parameters[4:8],parameters[8]\n",
    "    result=sarimaxPrdict(ticker,y,p1,p2,t,steps=10,disp=True,days=50)\n",
    "else:\n",
    "    print(\"wrong parameters\",len(parameters))"
   ]
  },
  {
   "cell_type": "code",
   "execution_count": 19,
   "metadata": {},
   "outputs": [
    {
     "data": {
      "text/html": [
       "<div>\n",
       "<style scoped>\n",
       "    .dataframe tbody tr th:only-of-type {\n",
       "        vertical-align: middle;\n",
       "    }\n",
       "\n",
       "    .dataframe tbody tr th {\n",
       "        vertical-align: top;\n",
       "    }\n",
       "\n",
       "    .dataframe thead th {\n",
       "        text-align: right;\n",
       "    }\n",
       "</style>\n",
       "<table border=\"1\" class=\"dataframe\">\n",
       "  <thead>\n",
       "    <tr style=\"text-align: right;\">\n",
       "      <th></th>\n",
       "      <th>WEB.AX</th>\n",
       "    </tr>\n",
       "  </thead>\n",
       "  <tbody>\n",
       "    <tr>\n",
       "      <th>2019-05-27</th>\n",
       "      <td>15.040000</td>\n",
       "    </tr>\n",
       "    <tr>\n",
       "      <th>2019-05-28</th>\n",
       "      <td>15.088881</td>\n",
       "    </tr>\n",
       "    <tr>\n",
       "      <th>2019-05-29</th>\n",
       "      <td>14.915644</td>\n",
       "    </tr>\n",
       "    <tr>\n",
       "      <th>2019-05-30</th>\n",
       "      <td>14.682405</td>\n",
       "    </tr>\n",
       "    <tr>\n",
       "      <th>2019-05-31</th>\n",
       "      <td>15.039168</td>\n",
       "    </tr>\n",
       "    <tr>\n",
       "      <th>2019-06-03</th>\n",
       "      <td>15.325932</td>\n",
       "    </tr>\n",
       "    <tr>\n",
       "      <th>2019-06-04</th>\n",
       "      <td>15.252693</td>\n",
       "    </tr>\n",
       "    <tr>\n",
       "      <th>2019-06-05</th>\n",
       "      <td>13.949457</td>\n",
       "    </tr>\n",
       "    <tr>\n",
       "      <th>2019-06-06</th>\n",
       "      <td>13.616220</td>\n",
       "    </tr>\n",
       "    <tr>\n",
       "      <th>2019-06-07</th>\n",
       "      <td>13.742982</td>\n",
       "    </tr>\n",
       "    <tr>\n",
       "      <th>2019-06-10</th>\n",
       "      <td>13.889745</td>\n",
       "    </tr>\n",
       "  </tbody>\n",
       "</table>\n",
       "</div>"
      ],
      "text/plain": [
       "               WEB.AX\n",
       "2019-05-27  15.040000\n",
       "2019-05-28  15.088881\n",
       "2019-05-29  14.915644\n",
       "2019-05-30  14.682405\n",
       "2019-05-31  15.039168\n",
       "2019-06-03  15.325932\n",
       "2019-06-04  15.252693\n",
       "2019-06-05  13.949457\n",
       "2019-06-06  13.616220\n",
       "2019-06-07  13.742982\n",
       "2019-06-10  13.889745"
      ]
     },
     "execution_count": 19,
     "metadata": {},
     "output_type": "execute_result"
    }
   ],
   "source": [
    "result\n",
    "sres=pd.DataFrame()\n",
    "sres[ticker]=result\n",
    "sres"
   ]
  },
  {
   "cell_type": "code",
   "execution_count": 20,
   "metadata": {},
   "outputs": [
    {
     "data": {
      "text/html": [
       "<div>\n",
       "<style scoped>\n",
       "    .dataframe tbody tr th:only-of-type {\n",
       "        vertical-align: middle;\n",
       "    }\n",
       "\n",
       "    .dataframe tbody tr th {\n",
       "        vertical-align: top;\n",
       "    }\n",
       "\n",
       "    .dataframe thead th {\n",
       "        text-align: right;\n",
       "    }\n",
       "</style>\n",
       "<table border=\"1\" class=\"dataframe\">\n",
       "  <thead>\n",
       "    <tr style=\"text-align: right;\">\n",
       "      <th></th>\n",
       "      <th>benefit</th>\n",
       "      <th>rate</th>\n",
       "      <th>2019-05-27 00:00:00</th>\n",
       "      <th>2019-06-07 00:00:00</th>\n",
       "      <th>2019-06-10 00:00:00</th>\n",
       "    </tr>\n",
       "  </thead>\n",
       "  <tbody>\n",
       "    <tr>\n",
       "      <th>WEB.AX</th>\n",
       "      <td>-38.239866</td>\n",
       "      <td>0.92352</td>\n",
       "      <td>13.61622</td>\n",
       "      <td>13.742982</td>\n",
       "      <td>13.889745</td>\n",
       "    </tr>\n",
       "  </tbody>\n",
       "</table>\n",
       "</div>"
      ],
      "text/plain": [
       "          benefit     rate  2019-05-27 00:00:00  2019-06-07 00:00:00  \\\n",
       "WEB.AX -38.239866  0.92352             13.61622            13.742982   \n",
       "\n",
       "        2019-06-10 00:00:00  \n",
       "WEB.AX            13.889745  "
      ]
     },
     "execution_count": 20,
     "metadata": {},
     "output_type": "execute_result"
    }
   ],
   "source": [
    "sres=sres.transpose()\n",
    "rate=sres[sres.columns[-1]]/sres[sres.columns[0]]\n",
    "rate\n",
    "dd=pd.DataFrame()\n",
    "x=rate*500-500\n",
    "dd['benefit']=x\n",
    "dd['rate']=rate\n",
    "dd[sres.columns[-0]]=sres[sres.columns[-3]]\n",
    "dd[sres.columns[-2]]=sres[sres.columns[-2]]\n",
    "dd[sres.columns[-1]]=sres[sres.columns[-1]]\n",
    "\n",
    "\n",
    "dd.sort_values(by='benefit',ascending=False).head(300)\n"
   ]
  },
  {
   "cell_type": "code",
   "execution_count": null,
   "metadata": {},
   "outputs": [],
   "source": []
  }
 ],
 "metadata": {
  "kernelspec": {
   "display_name": "Python 3",
   "language": "python",
   "name": "python3"
  },
  "language_info": {
   "codemirror_mode": {
    "name": "ipython",
    "version": 3
   },
   "file_extension": ".py",
   "mimetype": "text/x-python",
   "name": "python",
   "nbconvert_exporter": "python",
   "pygments_lexer": "ipython3",
   "version": "3.6.8"
  }
 },
 "nbformat": 4,
 "nbformat_minor": 2
}
