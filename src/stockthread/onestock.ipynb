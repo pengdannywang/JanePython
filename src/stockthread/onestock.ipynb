{
 "cells": [
  {
   "cell_type": "code",
   "execution_count": null,
   "metadata": {},
   "outputs": [],
   "source": []
  },
  {
   "cell_type": "code",
   "execution_count": null,
   "metadata": {},
   "outputs": [],
   "source": []
  },
  {
   "cell_type": "code",
   "execution_count": 1,
   "metadata": {},
   "outputs": [],
   "source": [
    "import datetime\n",
    "import pandas_datareader.data as web\n",
    "from sarimaxModel import sarimaxPrdict\n",
    "from sarimaxModel import quickParameters\n",
    "from sarimaxModel import selectParameters\n",
    "from sarimaxModel import predictbyticker\n",
    "import pandas as pd\n",
    "from sarimaxModel import forcastStocks\n",
    "from loadstocks import loadStocksByTickers\n",
    "from loadstocks import loadAuNotNaTickersFromYahooExcel\n",
    "from sarimaxModel import predictbyticker\n",
    "import pandas as pd\n",
    "from sarimaxModel import forcastStocks\n",
    "from loadstocks import loadStocksByTickers\n",
    "from loadstocks import loadAuNotNaTickersFromYahooExcel\n",
    "# We will look at stock prices over the past year, starting at January 1, 2016\n",
    "\n",
    "\n",
<<<<<<< Updated upstream
    "ticker='ANO.AX'\n",
=======
<<<<<<< HEAD
<<<<<<< HEAD
<<<<<<< HEAD
    "ticker='ANO.AX'\n",
=======
    "ticker='DEXJPUS'\n",
>>>>>>> parent of 7d6f84b... new data
=======
    "ticker='DEXJPUS'\n",
>>>>>>> parent of 7d6f84b... new data
=======
    "ticker='DEXJPUS'\n",
>>>>>>> parent of 7d6f84b... new data
>>>>>>> Stashed changes
    "months=12\n",
    "end = datetime.date.today()\n",
    "day=end.day\n",
    "year=end.year-months//12-1\n",
    "month=months%12+1\n",
    "start=datetime.datetime(year,month,day)\n",
    "\n",
    "data=web.DataReader(ticker,\"yahoo\",start,end)['Adj Close']   \n",
    "\n",
    "#y=data.resample('MS').mean()\n",
    "\n",
    "#parameters=quickParameters(paramPath,ticker,y,steps=2,disp=False)\n",
    "#parameters=selectParameters(ticker,y,steps=2,disp=True)\n",
    "#['8CO.AX', 0, 0, 0, 0, 0, 0, 12, 't', -7.909122119923726, 0.03528654153968552]\n",
    "\n",
    "#parameters=['MFG.AX', 0, 0, 1, 0, 1, 0, 12, 'n', 321.3071720270583, 0.486377988114156]\n",
    "#data=data['2019-04-01':]"
   ]
  },
  {
   "cell_type": "code",
   "execution_count": 2,
   "metadata": {},
   "outputs": [
    {
     "name": "stdout",
     "output_type": "stream",
     "text": [
<<<<<<< Updated upstream
      "['ANO.AX', 0, 0, 1, 1, 1, 1, 12, 'c', 102.71167434886918, 0.03920621688120818]\n"
=======
<<<<<<< HEAD
<<<<<<< HEAD
<<<<<<< HEAD
      "['ANO.AX', 0, 0, 1, 1, 1, 1, 12, 'c', 102.71167434886918, 0.03920621688120818]\n"
=======
      "['PPK.AX', 0, 0, 0, 1, 0, 1, 12, 'c', -135.65339878663067, 0.10426478973465247]\n"
>>>>>>> parent of 7d6f84b... new data
=======
      "['PPK.AX', 0, 0, 0, 1, 0, 1, 12, 'c', -135.65339878663067, 0.10426478973465247]\n"
>>>>>>> parent of 7d6f84b... new data
=======
      "['PPK.AX', 0, 0, 0, 1, 0, 1, 12, 'c', -135.65339878663067, 0.10426478973465247]\n"
>>>>>>> parent of 7d6f84b... new data
>>>>>>> Stashed changes
     ]
    }
   ],
   "source": [
    "y=data.resample('W').mean()\n",
    "steps=1\n",
    "#parameters=quickParameters(paramPath,ticker,y,steps=2,disp=False)\n",
    "parameters=selectParameters(ticker,y,steps=steps,disp=False)"
   ]
  },
  {
   "cell_type": "code",
<<<<<<< Updated upstream
   "execution_count": 7,
=======
<<<<<<< HEAD
<<<<<<< HEAD
<<<<<<< HEAD
   "execution_count": 7,
=======
   "execution_count": 3,
>>>>>>> parent of 7d6f84b... new data
=======
   "execution_count": 3,
>>>>>>> parent of 7d6f84b... new data
=======
   "execution_count": 3,
>>>>>>> parent of 7d6f84b... new data
>>>>>>> Stashed changes
   "metadata": {},
   "outputs": [
    {
     "name": "stdout",
     "output_type": "stream",
     "text": [
<<<<<<< Updated upstream
      "[0, 0, 1] [1, 1, 1, 12] c\n"
=======
<<<<<<< HEAD
<<<<<<< HEAD
<<<<<<< HEAD
      "[0, 0, 1] [1, 1, 1, 12] c\n"
=======
      "[0, 0, 0] [1, 0, 1, 12] c\n"
>>>>>>> parent of 7d6f84b... new data
=======
      "[0, 0, 0] [1, 0, 1, 12] c\n"
>>>>>>> parent of 7d6f84b... new data
=======
      "[0, 0, 0] [1, 0, 1, 12] c\n"
>>>>>>> parent of 7d6f84b... new data
>>>>>>> Stashed changes
     ]
    }
   ],
   "source": [
<<<<<<< Updated upstream
    "y=data.resample('W').mean()\n",
=======
<<<<<<< HEAD
<<<<<<< HEAD
<<<<<<< HEAD
    "y=data.resample('W').mean()\n",
=======
>>>>>>> parent of 7d6f84b... new data
=======
>>>>>>> parent of 7d6f84b... new data
=======
>>>>>>> parent of 7d6f84b... new data
>>>>>>> Stashed changes
    "import statsmodels.api as sm\n",
    "import os\n",
    "# SARIMAX example\n",
    "from statsmodels.tsa.statespace.sarimax import SARIMAX\n",
    "import matplotlib.pylab as plt\n",
    "from sklearn.metrics import mean_squared_error\n",
    "\n",
    "\n",
    "train_y, test_y = y[:-steps], y[-steps:]\n",
    "\n",
    "p1,p2,t=parameters[1:4],parameters[4:8],parameters[8]\n",
    "print(p1,p2,t)\n",
    "model = SARIMAX(train_y,\n",
    "     order=p1,\n",
    "     seasonal_order=p2,\n",
    "     trend=t,\n",
    "     enforce_stationarity=False,\n",
    "     enforce_invertibility=False)\n",
    "\n",
    "model_fit = model.fit(disp=False)\n",
    "\n",
    "forcast=model_fit.forecast(steps=len(test_y))\n",
    "\n"
   ]
  },
  {
   "cell_type": "code",
<<<<<<< Updated upstream
   "execution_count": 8,
=======
<<<<<<< HEAD
<<<<<<< HEAD
<<<<<<< HEAD
   "execution_count": 8,
=======
   "execution_count": 4,
>>>>>>> parent of 7d6f84b... new data
=======
   "execution_count": 4,
>>>>>>> parent of 7d6f84b... new data
=======
   "execution_count": 4,
>>>>>>> parent of 7d6f84b... new data
>>>>>>> Stashed changes
   "metadata": {},
   "outputs": [
    {
     "name": "stdout",
     "output_type": "stream",
     "text": [
      "Date\n",
<<<<<<< Updated upstream
=======
<<<<<<< HEAD
<<<<<<< HEAD
<<<<<<< HEAD
>>>>>>> Stashed changes
      "2017-01-29    0.284795\n",
      "2017-02-05    0.295784\n",
      "2017-02-12    0.295784\n",
      "2017-02-19    0.271802\n",
      "2017-02-26    0.257812\n",
      "2017-03-05    0.257812\n",
      "2017-03-12    0.279798\n",
      "2017-03-19    0.273800\n",
      "2017-03-26    0.265804\n",
      "2017-04-02    0.262308\n",
      "2017-04-09    0.275800\n",
      "2017-04-16    0.272300\n",
      "2017-04-23    0.269800\n",
      "2017-04-30    0.277300\n",
      "2017-05-07    0.265804\n",
      "2017-05-14    0.259810\n",
      "2017-05-21    0.263806\n",
      "2017-05-28    0.259810\n",
      "2017-06-04    0.259810\n",
      "2017-06-11    0.259810\n",
      "2017-06-18    0.244825\n",
      "2017-06-25    0.257812\n",
      "2017-07-02    0.239830\n",
      "2017-07-09    0.269804\n",
      "2017-07-16    0.289790\n",
      "2017-07-23    0.313772\n",
      "2017-07-30    0.323766\n",
      "2017-08-06    0.311774\n",
      "2017-08-13    0.303778\n",
      "2017-08-20    0.293786\n",
      "                ...   \n",
      "2018-10-28    0.873368\n",
      "2018-11-04    0.886360\n",
      "2018-11-11    0.889356\n",
      "2018-11-18    0.908342\n",
      "2018-11-25    0.889356\n",
      "2018-12-02    0.895354\n",
      "2018-12-09    0.904344\n",
      "2018-12-16    0.876872\n",
      "2018-12-23    0.899000\n",
      "2018-12-30    0.905000\n",
      "2019-01-06    0.946250\n",
      "2019-01-13    1.161000\n",
      "2019-01-20    1.179000\n",
      "2019-01-27    1.278750\n",
      "2019-02-03    1.452000\n",
      "2019-02-10    1.838000\n",
      "2019-02-17    2.176000\n",
      "2019-02-24    1.891000\n",
      "2019-03-03    2.184000\n",
      "2019-03-10    2.840000\n",
      "2019-03-17    3.586000\n",
      "2019-03-24    3.458000\n",
      "2019-03-31    3.584000\n",
      "2019-04-07    4.382500\n",
      "2019-04-14    4.482000\n",
      "2019-04-21    4.202500\n",
      "2019-04-28    4.103333\n",
      "2019-05-05    4.684000\n",
      "2019-05-12    4.512000\n",
      "2019-05-19    4.628000\n",
      "Freq: W-SUN, Name: Adj Close, Length: 121, dtype: float64\n",
      "Date\n",
      "2019-05-26    5.77\n",
      "Freq: W-SUN, Name: Adj Close, dtype: float64\n",
      "2019-05-26    5.730794\n",
<<<<<<< Updated upstream
=======
=======
=======
>>>>>>> parent of 7d6f84b... new data
=======
>>>>>>> parent of 7d6f84b... new data
      "2017-01-22    0.197386\n",
      "2017-01-29    0.197386\n",
      "2017-02-05    0.197386\n",
      "2017-02-12    0.197386\n",
      "2017-02-19    0.197386\n",
      "2017-02-26    0.197386\n",
      "2017-03-05    0.197386\n",
      "2017-03-12    0.197386\n",
      "2017-03-19    0.197386\n",
      "2017-03-26    0.197386\n",
      "2017-04-02    0.197386\n",
      "2017-04-09    0.197386\n",
      "2017-04-16    0.197386\n",
      "2017-04-23    0.197386\n",
      "2017-04-30    0.197386\n",
      "2017-05-07    0.197386\n",
      "2017-05-14    0.197386\n",
      "2017-05-21    0.197386\n",
      "2017-05-28    0.197386\n",
      "2017-06-04    0.197386\n",
      "2017-06-11    0.197386\n",
      "2017-06-18    0.197386\n",
      "2017-06-25    0.197386\n",
      "2017-07-02    0.197386\n",
      "2017-07-09    0.197386\n",
      "2017-07-16    0.197386\n",
      "2017-07-23    0.197386\n",
      "2017-07-30    0.197386\n",
      "2017-08-06    0.197386\n",
      "2017-08-13    0.197386\n",
      "                ...   \n",
      "2018-10-28    0.305948\n",
      "2018-11-04    0.311869\n",
      "2018-11-11    0.315817\n",
      "2018-11-18    0.460895\n",
      "2018-11-25    0.489516\n",
      "2018-12-02    0.716510\n",
      "2018-12-09    0.737235\n",
      "2018-12-16    0.685915\n",
      "2018-12-23    0.506294\n",
      "2018-12-30    0.490174\n",
      "2019-01-06    0.609428\n",
      "2019-01-13    0.579327\n",
      "2019-01-20    0.592157\n",
      "2019-01-27    0.584755\n",
      "2019-02-03    0.554654\n",
      "2019-02-10    0.529980\n",
      "2019-02-17    0.654333\n",
      "2019-02-24    0.702693\n",
      "2019-03-03    0.716510\n",
      "2019-03-10    0.711575\n",
      "2019-03-17    0.745131\n",
      "2019-03-24    0.774000\n",
      "2019-03-31    0.883000\n",
      "2019-04-07    1.156250\n",
      "2019-04-14    1.392000\n",
      "2019-04-21    1.307500\n",
      "2019-04-28    1.301667\n",
      "2019-05-05    1.319000\n",
      "2019-05-12    1.223000\n",
      "2019-05-19    1.278000\n",
      "Freq: W-SUN, Name: Adj Close, Length: 122, dtype: float64\n",
      "Date\n",
      "2019-05-26    1.59\n",
      "Freq: W-SUN, Name: Adj Close, dtype: float64\n",
      "2019-05-26    1.485735\n",
<<<<<<< HEAD
<<<<<<< HEAD
>>>>>>> parent of 7d6f84b... new data
=======
>>>>>>> parent of 7d6f84b... new data
=======
>>>>>>> parent of 7d6f84b... new data
>>>>>>> Stashed changes
      "Freq: W-SUN, dtype: float64\n"
     ]
    },
    {
     "data": {
<<<<<<< Updated upstream
      "image/png": "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\n",
=======
<<<<<<< HEAD
<<<<<<< HEAD
<<<<<<< HEAD
      "image/png": "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\n",
=======
      "image/png": "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\n",
>>>>>>> parent of 7d6f84b... new data
=======
      "image/png": "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\n",
>>>>>>> parent of 7d6f84b... new data
=======
      "image/png": "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\n",
>>>>>>> parent of 7d6f84b... new data
>>>>>>> Stashed changes
      "text/plain": [
       "<Figure size 432x288 with 1 Axes>"
      ]
     },
     "metadata": {
      "needs_background": "light"
     },
     "output_type": "display_data"
    }
   ],
   "source": [
    "print(train_y)\n",
    "print(test_y)\n",
    "print(forcast) \n",
    "if( len(parameters)>0):\n",
    "    \n",
    "    p1,p2,t=parameters[1:4],parameters[4:8],parameters[8]\n",
    "    result=sarimaxPrdict(ticker,y,p1,p2,t,steps=10,disp=True,days=50)\n",
    "else:\n",
    "    print(\"wrong parameters\",len(parameters))"
   ]
  },
  {
   "cell_type": "code",
<<<<<<< Updated upstream
   "execution_count": 9,
=======
<<<<<<< HEAD
<<<<<<< HEAD
<<<<<<< HEAD
   "execution_count": 9,
=======
   "execution_count": 5,
>>>>>>> parent of 7d6f84b... new data
=======
   "execution_count": 5,
>>>>>>> parent of 7d6f84b... new data
>>>>>>> Stashed changes
   "metadata": {},
   "outputs": [
    {
     "data": {
      "text/html": [
       "<div>\n",
       "<style scoped>\n",
       "    .dataframe tbody tr th:only-of-type {\n",
       "        vertical-align: middle;\n",
       "    }\n",
       "\n",
       "    .dataframe tbody tr th {\n",
       "        vertical-align: top;\n",
       "    }\n",
       "\n",
       "    .dataframe thead th {\n",
       "        text-align: right;\n",
       "    }\n",
       "</style>\n",
       "<table border=\"1\" class=\"dataframe\">\n",
       "  <thead>\n",
       "    <tr style=\"text-align: right;\">\n",
       "      <th></th>\n",
       "      <th>ANO.AX</th>\n",
       "    </tr>\n",
       "  </thead>\n",
       "  <tbody>\n",
       "    <tr>\n",
       "      <th>2019-05-26</th>\n",
       "      <td>5.770000</td>\n",
       "    </tr>\n",
       "    <tr>\n",
       "      <th>2019-06-02</th>\n",
       "      <td>6.743414</td>\n",
       "    </tr>\n",
       "    <tr>\n",
       "      <th>2019-06-09</th>\n",
       "      <td>8.667770</td>\n",
       "    </tr>\n",
       "    <tr>\n",
       "      <th>2019-06-16</th>\n",
       "      <td>8.330765</td>\n",
       "    </tr>\n",
       "    <tr>\n",
       "      <th>2019-06-23</th>\n",
       "      <td>8.664993</td>\n",
       "    </tr>\n",
       "    <tr>\n",
       "      <th>2019-06-30</th>\n",
       "      <td>10.683949</td>\n",
       "    </tr>\n",
       "    <tr>\n",
       "      <th>2019-07-07</th>\n",
       "      <td>10.934366</td>\n",
       "    </tr>\n",
       "    <tr>\n",
       "      <th>2019-07-14</th>\n",
       "      <td>10.168951</td>\n",
       "    </tr>\n",
       "    <tr>\n",
       "      <th>2019-07-21</th>\n",
       "      <td>9.868428</td>\n",
       "    </tr>\n",
       "    <tr>\n",
       "      <th>2019-07-28</th>\n",
       "      <td>11.271545</td>\n",
       "    </tr>\n",
       "    <tr>\n",
       "      <th>2019-08-04</th>\n",
       "      <td>10.769784</td>\n",
       "    </tr>\n",
       "  </tbody>\n",
       "</table>\n",
       "</div>"
      ],
      "text/plain": [
<<<<<<< Updated upstream
=======
<<<<<<< HEAD
<<<<<<< HEAD
>>>>>>> Stashed changes
       "               ANO.AX\n",
       "2019-05-26   5.770000\n",
       "2019-06-02   6.743414\n",
       "2019-06-09   8.667770\n",
       "2019-06-16   8.330765\n",
       "2019-06-23   8.664993\n",
       "2019-06-30  10.683949\n",
       "2019-07-07  10.934366\n",
       "2019-07-14  10.168951\n",
       "2019-07-21   9.868428\n",
       "2019-07-28  11.271545\n",
       "2019-08-04  10.769784"
      ]
     },
     "execution_count": 9,
     "metadata": {},
     "output_type": "execute_result"
    }
   ],
   "source": [
    "result\n",
    "sres=pd.DataFrame()\n",
    "sres[ticker]=result\n",
    "sres"
   ]
  },
  {
   "cell_type": "code",
   "execution_count": 10,
   "metadata": {},
   "outputs": [
    {
     "data": {
      "text/html": [
       "<div>\n",
       "<style scoped>\n",
       "    .dataframe tbody tr th:only-of-type {\n",
       "        vertical-align: middle;\n",
       "    }\n",
       "\n",
       "    .dataframe tbody tr th {\n",
       "        vertical-align: top;\n",
       "    }\n",
       "\n",
       "    .dataframe thead th {\n",
       "        text-align: right;\n",
       "    }\n",
       "</style>\n",
       "<table border=\"1\" class=\"dataframe\">\n",
       "  <thead>\n",
       "    <tr style=\"text-align: right;\">\n",
       "      <th></th>\n",
       "      <th>benefit</th>\n",
       "      <th>rate</th>\n",
       "      <th>2019-05-26 00:00:00</th>\n",
       "      <th>2019-07-28 00:00:00</th>\n",
       "      <th>2019-08-04 00:00:00</th>\n",
       "    </tr>\n",
       "  </thead>\n",
       "  <tbody>\n",
       "    <tr>\n",
       "      <th>ANO.AX</th>\n",
       "      <td>433.256878</td>\n",
       "      <td>1.866514</td>\n",
       "      <td>9.868428</td>\n",
       "      <td>11.271545</td>\n",
       "      <td>10.769784</td>\n",
       "    </tr>\n",
       "  </tbody>\n",
       "</table>\n",
       "</div>"
      ],
      "text/plain": [
       "           benefit      rate  2019-05-26 00:00:00  2019-07-28 00:00:00  \\\n",
       "ANO.AX  433.256878  1.866514             9.868428            11.271545   \n",
       "\n",
       "        2019-08-04 00:00:00  \n",
       "ANO.AX            10.769784  "
      ]
     },
     "execution_count": 10,
<<<<<<< Updated upstream
=======
=======
=======
>>>>>>> parent of 7d6f84b... new data
=======
>>>>>>> parent of 7d6f84b... new data
       "2019-05-26    1.590000\n",
       "2019-06-02    1.443786\n",
       "2019-06-09    1.314151\n",
       "2019-06-16    1.357069\n",
       "dtype: float64"
      ]
     },
     "execution_count": 5,
<<<<<<< HEAD
<<<<<<< HEAD
>>>>>>> parent of 7d6f84b... new data
=======
>>>>>>> parent of 7d6f84b... new data
=======
>>>>>>> parent of 7d6f84b... new data
>>>>>>> Stashed changes
     "metadata": {},
     "output_type": "execute_result"
    }
   ],
   "source": [
    "sres=sres.transpose()\n",
    "rate=sres[sres.columns[-1]]/sres[sres.columns[0]]\n",
    "rate\n",
    "dd=pd.DataFrame()\n",
    "x=rate*500-500\n",
    "dd['benefit']=x\n",
    "dd['rate']=rate\n",
    "dd[sres.columns[-0]]=sres[sres.columns[-3]]\n",
    "dd[sres.columns[-2]]=sres[sres.columns[-2]]\n",
    "dd[sres.columns[-1]]=sres[sres.columns[-1]]\n",
    "\n",
    "\n",
    "dd.sort_values(by='benefit',ascending=False).head(300)\n"
   ]
  },
  {
   "cell_type": "code",
   "execution_count": null,
   "metadata": {},
   "outputs": [],
   "source": []
  }
 ],
 "metadata": {
  "kernelspec": {
   "display_name": "Python 3",
   "language": "python",
   "name": "python3"
  },
  "language_info": {
   "codemirror_mode": {
    "name": "ipython",
    "version": 3
   },
   "file_extension": ".py",
   "mimetype": "text/x-python",
   "name": "python",
   "nbconvert_exporter": "python",
   "pygments_lexer": "ipython3",
   "version": "3.6.8"
  }
 },
 "nbformat": 4,
 "nbformat_minor": 2
}
