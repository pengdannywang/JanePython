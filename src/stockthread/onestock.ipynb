{
 "cells": [
  {
   "cell_type": "code",
   "execution_count": null,
   "metadata": {},
   "outputs": [],
   "source": []
  },
  {
   "cell_type": "code",
   "execution_count": null,
   "metadata": {},
   "outputs": [],
   "source": []
  },
  {
   "cell_type": "code",
   "execution_count": 1,
   "metadata": {},
   "outputs": [],
   "source": [
    "import datetime\n",
    "import pandas_datareader.data as web\n",
    "from sarimaxModel import sarimaxPrdict\n",
    "from sarimaxModel import quickParameters\n",
    "from sarimaxModel import selectParameters\n",
    "from sarimaxModel import predictbyticker\n",
    "import pandas as pd\n",
    "from sarimaxModel import forcastStocks\n",
    "from loadstocks import loadStocksByTickers\n",
    "from loadstocks import loadAuNotNaTickersFromYahooExcel\n",
    "from sarimaxModel import predictbyticker\n",
    "import pandas as pd\n",
    "from sarimaxModel import forcastStocks\n",
    "from loadstocks import loadStocksByTickers\n",
    "from loadstocks import loadAuNotNaTickersFromYahooExcel\n",
    "# We will look at stock prices over the past year, starting at January 1, 2016\n",
    "\n",
    "\n",
    "ticker='DHG.AX'\n",
    "months=12\n",
    "end = datetime.date.today()\n",
    "day=end.day\n",
    "year=end.year-months//12-1\n",
    "month=months%12+1\n",
    "start=datetime.datetime(year,month,day)\n",
    "\n",
    "data=web.DataReader(ticker,\"yahoo\",start,end)['Adj Close']   \n",
    "\n",
    "#y=data.resample('MS').mean()\n",
    "\n",
    "#parameters=quickParameters(paramPath,ticker,y,steps=2,disp=False)\n",
    "#parameters=selectParameters(ticker,y,steps=2,disp=True)\n",
    "#['8CO.AX', 0, 0, 0, 0, 0, 0, 12, 't', -7.909122119923726, 0.03528654153968552]\n",
    "\n",
    "#parameters=['MFG.AX', 0, 0, 1, 0, 1, 0, 12, 'n', 321.3071720270583, 0.486377988114156]\n",
    "#data=data['2019-04-01':]"
   ]
  },
  {
   "cell_type": "code",
   "execution_count": 2,
   "metadata": {},
   "outputs": [
    {
     "name": "stdout",
     "output_type": "stream",
     "text": [
      "['DHG.AX', 0, 1, 1, 1, 1, 0, 12, 'ct', -34.233846996796196, 0.0006499147097254188]\n"
     ]
    }
   ],
   "source": [
    "y=data.resample('W').mean()\n",
    "steps=1\n",
    "#parameters=quickParameters(paramPath,ticker,y,steps=2,disp=False)\n",
    "parameters=selectParameters(ticker,y,steps=steps,disp=False)"
   ]
  },
  {
   "cell_type": "code",
   "execution_count": 3,
   "metadata": {},
   "outputs": [
    {
     "name": "stdout",
     "output_type": "stream",
     "text": [
      "[0, 1, 1] [1, 1, 0, 12] ct\n"
     ]
    },
    {
     "data": {
      "image/png": "[encoded data removed]",
      "text/plain": [
       "<Figure size 432x288 with 1 Axes>"
      ]
     },
     "metadata": {
      "needs_background": "light"
     },
     "output_type": "display_data"
    }
   ],
   "source": [
    "y=data.resample('W').mean()\n",
    "import statsmodels.api as sm\n",
    "import os\n",
    "# SARIMAX example\n",
    "from statsmodels.tsa.statespace.sarimax import SARIMAX\n",
    "import matplotlib.pylab as plt\n",
    "from sklearn.metrics import mean_squared_error\n",
    "\n",
    "\n",
    "train_y, test_y = y[:-steps], y[-steps:]\n",
    "\n",
    "p1,p2,t=parameters[1:4],parameters[4:8],parameters[8]\n",
    "print(p1,p2,t)\n",
    "model = SARIMAX(train_y,\n",
    "     order=p1,\n",
    "     seasonal_order=p2,\n",
    "     trend=t,\n",
    "     enforce_stationarity=False,\n",
    "     enforce_invertibility=False)\n",
    "\n",
    "model_fit = model.fit(disp=False)\n",
    "\n",
    "forcast=model_fit.forecast(steps=len(test_y))\n",
    "\n",
    "\n",
    "pred_ci=pd.DataFrame(index=forcast.index)\n",
    "pred_ci['low'] = forcast-forcast*0.05\n",
    "pred_ci['upper'] = forcast+forcast*0.05\n",
    "\n",
    "\n",
    "#pred_ci.loc[y.index[-1]]=[y[-1],y[-1]]\n",
    "#pred_ci=pred_ci.sort_index()\n",
    "ax = y['2019-01-01':].plot(label='observed')\n",
    "forcast.plot(ax=ax, label='Forecast',color='k', alpha=.7)\n",
    "\n",
    "#ax.fill_between(pred_ci.index, pred_ci.iloc[:,0], pred_ci.iloc[:,1], color='k', alpha=.1)\n",
    "\n",
    "ax.set_xlabel('Date')\n",
    "ax.set_ylabel(ticker)\n",
    "plt.legend()\n",
    "\n",
    "plt.show()\n"
   ]
  },
  {
   "cell_type": "code",
   "execution_count": null,
   "metadata": {},
   "outputs": [],
   "source": []
  },
  {
   "cell_type": "code",
   "execution_count": 4,
   "metadata": {
    "scrolled": true
   },
   "outputs": [
    {
     "name": "stdout",
     "output_type": "stream",
     "text": [
      "Date\n",
      "2017-11-19    3.522348\n",
      "2017-11-26    3.380292\n",
      "2017-12-03    3.339612\n",
      "2017-12-10    3.343487\n",
      "2017-12-17    3.415161\n",
      "2017-12-24    3.394821\n",
      "2017-12-31    3.306036\n",
      "2018-01-07    3.347361\n",
      "2018-01-14    3.202076\n",
      "2018-01-21    3.099408\n",
      "2018-01-28    3.009816\n",
      "2018-02-04    3.068414\n",
      "2018-02-11    2.903758\n",
      "2018-02-18    2.814650\n",
      "2018-02-25    3.012313\n",
      "2018-03-04    2.978877\n",
      "2018-03-11    2.978877\n",
      "2018-03-18    3.041673\n",
      "2018-03-25    3.137829\n",
      "2018-04-01    3.162686\n",
      "2018-04-08    3.078467\n",
      "2018-04-15    3.010275\n",
      "2018-04-22    3.010275\n",
      "2018-04-29    3.009784\n",
      "2018-05-06    3.116243\n",
      "2018-05-13    3.218286\n",
      "2018-05-20    3.363502\n",
      "2018-05-27    3.255571\n",
      "2018-06-03    3.212399\n",
      "2018-06-10    3.086808\n",
      "                ...   \n",
      "2018-11-04    2.480916\n",
      "2018-11-11    2.461069\n",
      "2018-11-18    2.365802\n",
      "2018-11-25    2.431298\n",
      "2018-12-02    2.449160\n",
      "2018-12-09    2.391603\n",
      "2018-12-16    2.403512\n",
      "2018-12-23    2.260611\n",
      "2018-12-30    2.199746\n",
      "2019-01-06    2.208015\n",
      "2019-01-13    2.210992\n",
      "2019-01-20    2.226870\n",
      "2019-01-27    2.314695\n",
      "2019-02-03    2.345954\n",
      "2019-02-10    2.127634\n",
      "2019-02-17    2.256641\n",
      "2019-02-24    2.596000\n",
      "2019-03-03    2.686000\n",
      "2019-03-10    2.586000\n",
      "2019-03-17    2.572000\n",
      "2019-03-24    2.526000\n",
      "2019-03-31    2.508000\n",
      "2019-04-07    2.897500\n",
      "2019-04-14    2.796000\n",
      "2019-04-21    2.897500\n",
      "2019-04-28    3.040000\n",
      "2019-05-05    2.810000\n",
      "2019-05-12    3.030000\n",
      "2019-05-19    3.020000\n",
      "2019-05-26    3.256000\n",
      "Freq: W-SUN, Name: Adj Close, Length: 80, dtype: float64\n",
      "Date\n",
      "2019-06-02    3.315\n",
      "Freq: W-SUN, Name: Adj Close, dtype: float64\n",
      "2019-06-02    3.31435\n",
      "Freq: W-SUN, dtype: float64\n"
     ]
    },
    {
     "data": {
      "image/png": "[encoded data removed]",
      "text/plain": [
       "<Figure size 432x288 with 1 Axes>"
      ]
     },
     "metadata": {
      "needs_background": "light"
     },
     "output_type": "display_data"
    }
   ],
   "source": [
    "print(train_y)\n",
    "print(test_y)\n",
    "print(forcast) \n",
    "if( len(parameters)>0):\n",
    "    \n",
    "    p1,p2,t=parameters[1:4],parameters[4:8],parameters[8]\n",
    "    result=sarimaxPrdict(ticker,y,p1,p2,t,steps=10,disp=True,days=50)\n",
    "else:\n",
    "    print(\"wrong parameters\",len(parameters))"
   ]
  },
  {
   "cell_type": "code",
   "execution_count": 5,
   "metadata": {},
   "outputs": [
    {
     "data": {
      "text/html": [
       "<div>\n",
       "<style scoped>\n",
       "    .dataframe tbody tr th:only-of-type {\n",
       "        vertical-align: middle;\n",
       "    }\n",
       "\n",
       "    .dataframe tbody tr th {\n",
       "        vertical-align: top;\n",
       "    }\n",
       "\n",
       "    .dataframe thead th {\n",
       "        text-align: right;\n",
       "    }\n",
       "</style>\n",
       "<table border=\"1\" class=\"dataframe\">\n",
       "  <thead>\n",
       "    <tr style=\"text-align: right;\">\n",
       "      <th></th>\n",
       "      <th>DHG.AX</th>\n",
       "    </tr>\n",
       "  </thead>\n",
       "  <tbody>\n",
       "    <tr>\n",
       "      <th>2019-06-02</th>\n",
       "      <td>3.315000</td>\n",
       "    </tr>\n",
       "    <tr>\n",
       "      <th>2019-06-09</th>\n",
       "      <td>3.299632</td>\n",
       "    </tr>\n",
       "    <tr>\n",
       "      <th>2019-06-16</th>\n",
       "      <td>3.283926</td>\n",
       "    </tr>\n",
       "    <tr>\n",
       "      <th>2019-06-23</th>\n",
       "      <td>3.309369</td>\n",
       "    </tr>\n",
       "    <tr>\n",
       "      <th>2019-06-30</th>\n",
       "      <td>3.615432</td>\n",
       "    </tr>\n",
       "    <tr>\n",
       "      <th>2019-07-07</th>\n",
       "      <td>3.586402</td>\n",
       "    </tr>\n",
       "    <tr>\n",
       "      <th>2019-07-14</th>\n",
       "      <td>3.720404</td>\n",
       "    </tr>\n",
       "    <tr>\n",
       "      <th>2019-07-21</th>\n",
       "      <td>3.865769</td>\n",
       "    </tr>\n",
       "    <tr>\n",
       "      <th>2019-07-28</th>\n",
       "      <td>3.677013</td>\n",
       "    </tr>\n",
       "    <tr>\n",
       "      <th>2019-08-04</th>\n",
       "      <td>3.907045</td>\n",
       "    </tr>\n",
       "    <tr>\n",
       "      <th>2019-08-11</th>\n",
       "      <td>4.043381</td>\n",
       "    </tr>\n",
       "  </tbody>\n",
       "</table>\n",
       "</div>"
      ],
      "text/plain": [
       "              DHG.AX\n",
       "2019-06-02  3.315000\n",
       "2019-06-09  3.299632\n",
       "2019-06-16  3.283926\n",
       "2019-06-23  3.309369\n",
       "2019-06-30  3.615432\n",
       "2019-07-07  3.586402\n",
       "2019-07-14  3.720404\n",
       "2019-07-21  3.865769\n",
       "2019-07-28  3.677013\n",
       "2019-08-04  3.907045\n",
       "2019-08-11  4.043381"
      ]
     },
     "execution_count": 5,
     "metadata": {},
     "output_type": "execute_result"
    }
   ],
   "source": [
    "result\n",
    "sres=pd.DataFrame()\n",
    "sres[ticker]=result\n",
    "sres"
   ]
  },
  {
   "cell_type": "code",
   "execution_count": 6,
   "metadata": {},
   "outputs": [
    {
     "data": {
      "text/html": [
       "<div>\n",
       "<style scoped>\n",
       "    .dataframe tbody tr th:only-of-type {\n",
       "        vertical-align: middle;\n",
       "    }\n",
       "\n",
       "    .dataframe tbody tr th {\n",
       "        vertical-align: top;\n",
       "    }\n",
       "\n",
       "    .dataframe thead th {\n",
       "        text-align: right;\n",
       "    }\n",
       "</style>\n",
       "<table border=\"1\" class=\"dataframe\">\n",
       "  <thead>\n",
       "    <tr style=\"text-align: right;\">\n",
       "      <th></th>\n",
       "      <th>benefit</th>\n",
       "      <th>rate</th>\n",
       "      <th>2019-06-02 00:00:00</th>\n",
       "      <th>2019-08-04 00:00:00</th>\n",
       "      <th>2019-08-11 00:00:00</th>\n",
       "    </tr>\n",
       "  </thead>\n",
       "  <tbody>\n",
       "    <tr>\n",
       "      <th>DHG.AX</th>\n",
       "      <td>109.861409</td>\n",
       "      <td>1.219723</td>\n",
       "      <td>3.677013</td>\n",
       "      <td>3.907045</td>\n",
       "      <td>4.043381</td>\n",
       "    </tr>\n",
       "  </tbody>\n",
       "</table>\n",
       "</div>"
      ],
      "text/plain": [
       "           benefit      rate  2019-06-02 00:00:00  2019-08-04 00:00:00  \\\n",
       "DHG.AX  109.861409  1.219723             3.677013             3.907045   \n",
       "\n",
       "        2019-08-11 00:00:00  \n",
       "DHG.AX             4.043381  "
      ]
     },
     "execution_count": 6,
     "metadata": {},
     "output_type": "execute_result"
    }
   ],
   "source": [
    "sres=sres.transpose()\n",
    "rate=sres[sres.columns[-1]]/sres[sres.columns[0]]\n",
    "rate\n",
    "dd=pd.DataFrame()\n",
    "x=rate*500-500\n",
    "dd['benefit']=x\n",
    "dd['rate']=rate\n",
    "dd[sres.columns[-0]]=sres[sres.columns[-3]]\n",
    "dd[sres.columns[-2]]=sres[sres.columns[-2]]\n",
    "dd[sres.columns[-1]]=sres[sres.columns[-1]]\n",
    "\n",
    "\n",
    "dd.sort_values(by='benefit',ascending=False).head(300)\n"
   ]
  },
  {
   "cell_type": "code",
   "execution_count": null,
   "metadata": {},
   "outputs": [],
   "source": []
  },
  {
   "cell_type": "code",
   "execution_count": null,
   "metadata": {},
   "outputs": [],
   "source": []
  }
 ],
 "metadata": {
  "kernelspec": {
   "display_name": "Python 3",
   "language": "python",
   "name": "python3"
  },
  "language_info": {
   "codemirror_mode": {
    "name": "ipython",
    "version": 3
   },
   "file_extension": ".py",
   "mimetype": "text/x-python",
   "name": "python",
   "nbconvert_exporter": "python",
   "pygments_lexer": "ipython3",
   "version": "3.6.8"
  }
 },
 "nbformat": 4,
 "nbformat_minor": 2
}
