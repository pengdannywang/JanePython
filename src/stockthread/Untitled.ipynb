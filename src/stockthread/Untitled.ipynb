{
 "cells": [
  {
   "cell_type": "code",
   "execution_count": null,
   "metadata": {},
   "outputs": [],
   "source": [
    "# -*- coding: utf-8 -*-\n",
    "import sys, getopt\n",
    "import pandas as pd\n",
    "from sarimaxModel import forcastStocks\n",
    "from loadstocks import loadStocksByTickers\n",
    "from loadstocks import loadAuBlankTickersFromYahooExcel\n",
    "path='/Users/pengwang/Dropbox/finance/'\n",
    "inputfile = path+'Yahoo.xlsx'\n",
    "outputfile = path+'stocks2.csv'\n",
    "stock_names=pd.read_excel(inputfile,header=3,usecols=4)\n",
    "au_stocks=stock_names[stock_names['Country']=='Australia']\n",
    "au_stocks"
   ]
  }
 ],
 "metadata": {
  "kernelspec": {
   "display_name": "Python 3",
   "language": "python",
   "name": "python3"
  },
  "language_info": {
   "codemirror_mode": {
    "name": "ipython",
    "version": 3
   },
   "file_extension": ".py",
   "mimetype": "text/x-python",
   "name": "python",
   "nbconvert_exporter": "python",
   "pygments_lexer": "ipython3",
   "version": "3.7.1"
  }
 },
 "nbformat": 4,
 "nbformat_minor": 2
}
