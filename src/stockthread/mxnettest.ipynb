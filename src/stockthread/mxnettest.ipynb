{
 "cells": [
  {
   "cell_type": "code",
   "execution_count": 1,
   "metadata": {},
   "outputs": [],
   "source": [
    "\n",
    "import time\n",
    "import numpy as np\n",
    "import mxnet as mx\n",
    "from tqdm import tqdm, tqdm_notebook\n",
    "from mxnet import nd, autograd, gluon\n",
    "from mxnet.gluon import nn\n",
    "import matplotlib.pyplot as plt\n",
    "%matplotlib inline"
   ]
  },
  {
   "cell_type": "code",
   "execution_count": 2,
   "metadata": {},
   "outputs": [
    {
     "name": "stdout",
     "output_type": "stream",
     "text": [
      "Using CPU for model_ctx\n"
     ]
    }
   ],
   "source": [
    "def gpu_exists():\n",
    "    try:\n",
    "        mx.nd.zeros((1,), ctx=mx.gpu(0))\n",
    "    except:\n",
    "        return False\n",
    "    return True\n",
    "\n",
    "data_ctx = mx.cpu()\n",
    "if gpu_exists():\n",
    "    print('Using GPU for model_ctx')\n",
    "    model_ctx = mx.gpu(0)\n",
    "else:\n",
    "    print('Using CPU for model_ctx')\n",
    "    model_ctx = mx.cpu()"
   ]
  },
  {
   "cell_type": "code",
   "execution_count": 3,
   "metadata": {},
   "outputs": [],
   "source": [
    "\n",
    "mx.random.seed(1)\n",
    "output_fig = False"
   ]
  },
  {
   "cell_type": "code",
   "execution_count": 27,
   "metadata": {},
   "outputs": [
    {
     "data": {
      "image/png": "[encoded data removed]",
      "text/plain": [
       "<Figure size 1152x288 with 10 Axes>"
      ]
     },
     "metadata": {},
     "output_type": "display_data"
    }
   ],
   "source": [
    "#load mnist\n",
    "mnist = mx.test_utils.get_mnist()\n",
    "#print(mnist['train_data'][0].shape)\n",
    "#plt.imshow(mnist['train_data'][0][0],cmap='Greys')\n",
    "\n",
    "n_samples = 10\n",
    "idx = np.random.choice(len(mnist['train_data']), n_samples)\n",
    "_, axarr = plt.subplots(1, n_samples, figsize=(16,4))\n",
    "for i,j in enumerate(idx):\n",
    "    axarr[i].imshow(mnist['train_data'][j][0], cmap='Greys')\n",
    "    #axarr[i].axis('off')\n",
    "    axarr[i].get_xaxis().set_ticks([])\n",
    "    axarr[i].get_yaxis().set_ticks([])\n",
    "plt.show()"
   ]
  },
  {
   "cell_type": "code",
   "execution_count": 28,
   "metadata": {},
   "outputs": [],
   "source": [
    "\n",
    "train_data = np.reshape(mnist['train_data'],(-1,28*28))\n",
    "test_data = np.reshape(mnist['test_data'],(-1,28*28))"
   ]
  },
  {
   "cell_type": "code",
   "execution_count": 29,
   "metadata": {},
   "outputs": [],
   "source": [
    "idx = np.random.choice(len(mnist['train_data']), n_samples)\n"
   ]
  },
  {
   "cell_type": "code",
   "execution_count": 12,
   "metadata": {},
   "outputs": [
    {
     "data": {
      "text/plain": [
       "(60000, 784)"
      ]
     },
     "execution_count": 12,
     "metadata": {},
     "output_type": "execute_result"
    }
   ],
   "source": []
  },
  {
   "cell_type": "code",
   "execution_count": 25,
   "metadata": {},
   "outputs": [],
   "source": [
    "batch_size = 100\n",
    "n_batches = train_data.shape[0]/batch_size\n",
    "train_iter = mx.io.NDArrayIter(data={'data': train_data}, label={'label': mnist['train_label']}, batch_size = batch_size)\n",
    "test_iter = mx.io.NDArrayIter(data={'data': test_data}, label={'label': mnist['test_label']}, batch_size = batch_size)\n",
    "#train_iter = mx.io.NDArrayIter(data={'data': train_data}, batch_size = batch_size)\n",
    "#test_iter = mx.io.NDArrayIter(data={'data': test_data}, batch_size = batch_size)\n"
   ]
  },
  {
   "cell_type": "code",
   "execution_count": null,
   "metadata": {},
   "outputs": [],
   "source": [
    "class VAE(gluon.HybridBlock):\n",
    "    def __init__(self, n_hidden=400, n_latent=2, n_layers=1, n_output=784, batch_size=100, act_type='relu', **kwargs):\n",
    "        self.soft_zero = 1e-10\n",
    "        self.n_latent = n_latent\n",
    "        self.batch_size = batch_size\n",
    "        self.output = None\n",
    "        self.mu = None\n",
    "        # note to self: requring batch_size in model definition is sad, not sure how to deal with this otherwise though\n",
    "        super(VAE, self).__init__(**kwargs)\n",
    "        # self.use_aux_logits = use_aux_logits\n",
    "        with self.name_scope():\n",
    "            self.encoder = nn.HybridSequential(prefix='encoder')\n",
    "            for i in range(n_layers):\n",
    "                self.encoder.add(nn.Dense(n_hidden, activation=act_type))\n",
    "            self.encoder.add(nn.Dense(n_latent*2, activation=None))\n",
    "\n",
    "            self.decoder = nn.HybridSequential(prefix='decoder')\n",
    "            for i in range(n_layers):\n",
    "                self.decoder.add(nn.Dense(n_hidden, activation=act_type))\n",
    "            self.decoder.add(nn.Dense(n_output, activation='sigmoid'))\n",
    "\n",
    "    def hybrid_forward(self, F, x):\n",
    "        h = self.encoder(x)\n",
    "        #print(h)\n",
    "        mu_lv = F.split(h, axis=1, num_outputs=2)\n",
    "        mu = mu_lv[0]\n",
    "        lv = mu_lv[1]\n",
    "        self.mu = mu\n",
    "        #eps = F.random_normal(loc=0, scale=1, shape=mu.shape, ctx=model_ctx)\n",
    "        # this would work fine only for nd (i.e. non-hybridized block)\n",
    "        eps = F.random_normal(loc=0, scale=1, shape=(self.batch_size, self.n_latent), ctx=model_ctx)\n",
    "        z = mu + F.exp(0.5*lv)*eps\n",
    "        y = self.decoder(z)\n",
    "        self.output = y\n",
    "\n",
    "        KL = 0.5*F.sum(1+lv-mu*mu-F.exp(lv),axis=1)\n",
    "        logloss = F.sum(x*F.log(y+self.soft_zero)+ (1-x)*F.log(1-y+self.soft_zero), axis=1)\n",
    "        loss = -logloss-KL\n",
    "\n",
    "        return loss"
   ]
  },
  {
   "cell_type": "code",
   "execution_count": null,
   "metadata": {},
   "outputs": [],
   "source": [
    "n_hidden=400\n",
    "n_latent=2\n",
    "n_layers=2 # num of dense layers in encoder and decoder respectively\n",
    "n_output=784\n",
    "model_prefix = 'vae_gluon_{}d{}l{}h.params'.format(n_latent, n_layers, n_hidden)\n",
    "\n",
    "net = VAE(n_hidden=n_hidden, n_latent=n_latent, n_layers=n_layers, n_output=n_output, batch_size=batch_size)\n"
   ]
  },
  {
   "cell_type": "code",
   "execution_count": null,
   "metadata": {},
   "outputs": [],
   "source": [
    "net.collect_params().initialize(mx.init.Xavier(), ctx=model_ctx)\n",
    "net.hybridize()\n",
    "trainer = gluon.Trainer(net.collect_params(), 'adam', {'learning_rate': .001})"
   ]
  },
  {
   "cell_type": "code",
   "execution_count": null,
   "metadata": {},
   "outputs": [],
   "source": [
    "n_epoch = 50\n",
    "print_period = n_epoch // 10\n",
    "start = time.time()\n",
    "\n",
    "training_loss = []\n",
    "validation_loss = []\n",
    "for epoch in tqdm_notebook(range(n_epoch), desc='epochs'):\n",
    "    epoch_loss = 0\n",
    "    epoch_val_loss = 0\n",
    "\n",
    "    train_iter.reset()\n",
    "    test_iter.reset()\n",
    "\n",
    "    n_batch_train = 0\n",
    "    for batch in train_iter:\n",
    "        n_batch_train +=1\n",
    "        data = batch.data[0].as_in_context(model_ctx)\n",
    "        with autograd.record():\n",
    "            loss = net(data)\n",
    "        loss.backward()\n",
    "        trainer.step(data.shape[0])\n",
    "        epoch_loss += nd.mean(loss).asscalar()\n",
    "\n",
    "    n_batch_val = 0\n",
    "    for batch in test_iter:\n",
    "        n_batch_val +=1\n",
    "        data = batch.data[0].as_in_context(model_ctx)\n",
    "        loss = net(data)\n",
    "        epoch_val_loss += nd.mean(loss).asscalar()\n",
    "\n",
    "    epoch_loss /= n_batch_train\n",
    "    epoch_val_loss /= n_batch_val\n",
    "\n",
    "    training_loss.append(epoch_loss)\n",
    "    validation_loss.append(epoch_val_loss)\n",
    "\n",
    "    if epoch % max(print_period,1) == 0:\n",
    "        tqdm.write('Epoch{}, Training loss {:.2f}, Validation loss {:.2f}'.format(epoch, epoch_loss, epoch_val_loss))\n",
    "\n",
    "end = time.time()\n",
    "print('Time elapsed: {:.2f}s'.format(end - start))"
   ]
  },
  {
   "cell_type": "code",
   "execution_count": null,
   "metadata": {},
   "outputs": [],
   "source": [
    "net.save_parameters(model_prefix)"
   ]
  },
  {
   "cell_type": "code",
   "execution_count": null,
   "metadata": {},
   "outputs": [],
   "source": [
    "batch_x = np.linspace(1, n_epoch, len(training_loss))\n",
    "plt.plot(batch_x, -1*np.array(training_loss))\n",
    "plt.plot(batch_x, -1*np.array(validation_loss))\n",
    "plt.legend(['train', 'valid'])"
   ]
  },
  {
   "cell_type": "code",
   "execution_count": null,
   "metadata": {},
   "outputs": [],
   "source": [
    "net2 = VAE(n_hidden=n_hidden, n_latent=n_latent, n_layers=n_layers, n_output=n_output, batch_size=batch_size)\n",
    "net2.load_parameters(model_prefix, ctx=model_ctx)"
   ]
  },
  {
   "cell_type": "code",
   "execution_count": null,
   "metadata": {},
   "outputs": [],
   "source": [
    "test_iter.reset()\n",
    "test_batch = test_iter.next()\n",
    "net2(test_batch.data[0].as_in_context(model_ctx))\n",
    "result = net2.output.asnumpy()\n",
    "original = test_batch.data[0].asnumpy()"
   ]
  },
  {
   "cell_type": "code",
   "execution_count": null,
   "metadata": {},
   "outputs": [],
   "source": [
    "n_samples = 10\n",
    "idx = np.random.choice(batch_size, n_samples)\n",
    "_, axarr = plt.subplots(2, n_samples, figsize=(16,4))\n",
    "for i,j in enumerate(idx):\n",
    "    axarr[0,i].imshow(original[j].reshape((28,28)), cmap='Greys')\n",
    "    if i==0:\n",
    "        axarr[0,i].set_title('original')\n",
    "    #axarr[0,i].axis('off')\n",
    "    axarr[0,i].get_xaxis().set_ticks([])\n",
    "    axarr[0,i].get_yaxis().set_ticks([])\n",
    "\n",
    "    axarr[1,i].imshow(result[j].reshape((28,28)), cmap='Greys')\n",
    "    if i==0:\n",
    "        axarr[1,i].set_title('reconstruction')\n",
    "    #axarr[1,i].axis('off')\n",
    "    axarr[1,i].get_xaxis().set_ticks([])\n",
    "    axarr[1,i].get_yaxis().set_ticks([])\n",
    "plt.show()"
   ]
  },
  {
   "cell_type": "code",
   "execution_count": null,
   "metadata": {},
   "outputs": [],
   "source": [
    "n_batches = 10\n",
    "counter = 0\n",
    "results = []\n",
    "labels = []\n",
    "for batch in test_iter:\n",
    "    net2(batch.data[0].as_in_context(model_ctx))\n",
    "    results.append(net2.mu.asnumpy())\n",
    "    labels.append(batch.label[0].asnumpy())\n",
    "    counter +=1\n",
    "    if counter >= n_batches:\n",
    "        break"
   ]
  },
  {
   "cell_type": "code",
   "execution_count": null,
   "metadata": {},
   "outputs": [],
   "source": [
    "result= np.vstack(results)\n",
    "labels = np.hstack(labels)"
   ]
  },
  {
   "cell_type": "code",
   "execution_count": null,
   "metadata": {},
   "outputs": [],
   "source": [
    "if result.shape[1]==2:\n",
    "    from scipy.special import ndtri\n",
    "    from scipy.stats import norm\n",
    "\n",
    "    fig, axarr = plt.subplots(1,2, figsize=(10,4))\n",
    "    im=axarr[0].scatter(result[:, 0], result[:, 1], c=labels, alpha=0.6, cmap='Paired')\n",
    "    axarr[0].set_title(r'scatter plot of $\\mu$')\n",
    "    axarr[0].axis('equal')\n",
    "    fig.colorbar(im, ax=axarr[0])\n",
    "\n",
    "    im=axarr[1].scatter(norm.cdf(result[:, 0]), norm.cdf(result[:, 1]), c=labels, alpha=0.6, cmap='Paired')\n",
    "    axarr[1].set_title(r'scatter plot of $\\mu$ on norm.cdf() transformed coordinates')\n",
    "    axarr[1].axis('equal')\n",
    "    fig.colorbar(im, ax=axarr[1])\n",
    "    plt.tight_layout()\n",
    "    if output_fig:\n",
    "        plt.savefig('2d_latent_space_for_test_samples.png')"
   ]
  },
  {
   "cell_type": "code",
   "execution_count": null,
   "metadata": {},
   "outputs": [],
   "source": [
    "n_samples = 10\n",
    "zsamples = nd.array(np.random.randn(n_samples*n_samples, n_latent))\n"
   ]
  },
  {
   "cell_type": "code",
   "execution_count": null,
   "metadata": {},
   "outputs": [],
   "source": [
    "images = net2.decoder(zsamples.as_in_context(model_ctx)).asnumpy()"
   ]
  },
  {
   "cell_type": "code",
   "execution_count": null,
   "metadata": {},
   "outputs": [],
   "source": [
    "canvas = np.empty((28*n_samples, 28*n_samples))\n",
    "for i, img in enumerate(images):\n",
    "    x = i // n_samples\n",
    "    y = i % n_samples\n",
    "    canvas[(n_samples-y-1)*28:(n_samples-y)*28, x*28:(x+1)*28] = img.reshape(28, 28)\n",
    "plt.figure(figsize=(4, 4))\n",
    "plt.imshow(canvas, origin=\"upper\", cmap=\"Greys\")\n",
    "plt.axis('off')\n",
    "plt.tight_layout()\n",
    "if output_fig:\n",
    "    plt.savefig('generated_samples_with_{}D_latent_space.png'.format(n_latent))"
   ]
  },
  {
   "cell_type": "code",
   "execution_count": null,
   "metadata": {},
   "outputs": [],
   "source": [
    "if n_latent==2:\n",
    "    n_pts = 20\n",
    "\n",
    "    idx = np.arange(0, n_pts)\n",
    "\n",
    "    x = np.linspace(norm.cdf(-3), norm.cdf(3),n_pts)\n",
    "    x = ndtri(x)\n",
    "\n",
    "    x_grid = np.array(np.meshgrid(*[i for i in np.matlib.repmat(x,n_latent,1)]))\n",
    "    id_grid = np.array(np.meshgrid(*[i for i in np.matlib.repmat(idx,n_latent,1)]))\n",
    "\n",
    "    zsamples = nd.array(x_grid.reshape((n_latent, -1)).transpose())\n",
    "    zsamples_id = id_grid.reshape((n_latent, -1)).transpose()\n",
    "\n",
    "    images = net2.decoder(zsamples.as_in_context(model_ctx)).asnumpy()\n",
    "\n",
    "    #plot\n",
    "    canvas = np.empty((28*n_pts, 28*n_pts))\n",
    "    for i, img in enumerate(images):\n",
    "        x, y = zsamples_id[i]\n",
    "        canvas[(n_pts-y-1)*28:(n_pts-y)*28, x*28:(x+1)*28] = img.reshape(28, 28)\n",
    "    plt.figure(figsize=(6, 6))\n",
    "    plt.imshow(canvas, origin=\"upper\", cmap=\"Greys\")\n",
    "    plt.axis('off')\n",
    "    plt.tight_layout()\n",
    "    if output_fig:\n",
    "        plt.savefig('2d_latent_space_scan_for_generation.png')"
   ]
  },
  {
   "cell_type": "code",
   "execution_count": null,
   "metadata": {},
   "outputs": [],
   "source": []
  }
 ],
 "metadata": {
  "kernelspec": {
   "display_name": "Python 3",
   "language": "python",
   "name": "python3"
  },
  "language_info": {
   "codemirror_mode": {
    "name": "ipython",
    "version": 3
   },
   "file_extension": ".py",
   "mimetype": "text/x-python",
   "name": "python",
   "nbconvert_exporter": "python",
   "pygments_lexer": "ipython3",
   "version": "3.7.1"
  }
 },
 "nbformat": 4,
 "nbformat_minor": 2
}
