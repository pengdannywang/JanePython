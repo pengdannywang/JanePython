{
 "cells": [
  {
   "cell_type": "code",
   "execution_count": 6,
   "metadata": {},
   "outputs": [
    {
     "data": {
      "text/html": [
       "<div>\n",
       "<style scoped>\n",
       "    .dataframe tbody tr th:only-of-type {\n",
       "        vertical-align: middle;\n",
       "    }\n",
       "\n",
       "    .dataframe tbody tr th {\n",
       "        vertical-align: top;\n",
       "    }\n",
       "\n",
       "    .dataframe thead th {\n",
       "        text-align: right;\n",
       "    }\n",
       "</style>\n",
       "<table border=\"1\" class=\"dataframe\">\n",
       "  <thead>\n",
       "    <tr style=\"text-align: right;\">\n",
       "      <th></th>\n",
       "      <th>Ticker</th>\n",
       "      <th>Name</th>\n",
       "      <th>Exchange</th>\n",
       "      <th>Category Name</th>\n",
       "      <th>Country</th>\n",
       "    </tr>\n",
       "  </thead>\n",
       "  <tbody>\n",
       "    <tr>\n",
       "      <th>1233</th>\n",
       "      <td>BBG.AX</td>\n",
       "      <td>Billabong International Limited</td>\n",
       "      <td>ASX</td>\n",
       "      <td>Apparel Stores</td>\n",
       "      <td>Australia</td>\n",
       "    </tr>\n",
       "    <tr>\n",
       "      <th>1610</th>\n",
       "      <td>PMV.AX</td>\n",
       "      <td>Premier Investments Limited</td>\n",
       "      <td>ASX</td>\n",
       "      <td>Apparel Stores</td>\n",
       "      <td>Australia</td>\n",
       "    </tr>\n",
       "    <tr>\n",
       "      <th>7627</th>\n",
       "      <td>KMD.AX</td>\n",
       "      <td>Kathmandu Holdings Limited</td>\n",
       "      <td>ASX</td>\n",
       "      <td>Apparel Stores</td>\n",
       "      <td>Australia</td>\n",
       "    </tr>\n",
       "    <tr>\n",
       "      <th>8961</th>\n",
       "      <td>SFH.AX</td>\n",
       "      <td>Specialty Fashion Group Limited</td>\n",
       "      <td>ASX</td>\n",
       "      <td>Apparel Stores</td>\n",
       "      <td>Australia</td>\n",
       "    </tr>\n",
       "    <tr>\n",
       "      <th>17727</th>\n",
       "      <td>ORL.AX</td>\n",
       "      <td>OrotonGroup Limited</td>\n",
       "      <td>ASX</td>\n",
       "      <td>Apparel Stores</td>\n",
       "      <td>Australia</td>\n",
       "    </tr>\n",
       "    <tr>\n",
       "      <th>40818</th>\n",
       "      <td>SBB.AX</td>\n",
       "      <td>Sunbridge Group Limited</td>\n",
       "      <td>ASX</td>\n",
       "      <td>Apparel Stores</td>\n",
       "      <td>Australia</td>\n",
       "    </tr>\n",
       "    <tr>\n",
       "      <th>40839</th>\n",
       "      <td>RCG.AX</td>\n",
       "      <td>RCG Corporation Limited</td>\n",
       "      <td>ASX</td>\n",
       "      <td>Apparel Stores</td>\n",
       "      <td>Australia</td>\n",
       "    </tr>\n",
       "    <tr>\n",
       "      <th>89289</th>\n",
       "      <td>NBL.AX</td>\n",
       "      <td>Noni B Limited</td>\n",
       "      <td>ASX</td>\n",
       "      <td>Apparel Stores</td>\n",
       "      <td>Australia</td>\n",
       "    </tr>\n",
       "  </tbody>\n",
       "</table>\n",
       "</div>"
      ],
      "text/plain": [
       "       Ticker                             Name Exchange   Category Name  \\\n",
       "1233   BBG.AX  Billabong International Limited      ASX  Apparel Stores   \n",
       "1610   PMV.AX      Premier Investments Limited      ASX  Apparel Stores   \n",
       "7627   KMD.AX       Kathmandu Holdings Limited      ASX  Apparel Stores   \n",
       "8961   SFH.AX  Specialty Fashion Group Limited      ASX  Apparel Stores   \n",
       "17727  ORL.AX              OrotonGroup Limited      ASX  Apparel Stores   \n",
       "40818  SBB.AX          Sunbridge Group Limited      ASX  Apparel Stores   \n",
       "40839  RCG.AX          RCG Corporation Limited      ASX  Apparel Stores   \n",
       "89289  NBL.AX                   Noni B Limited      ASX  Apparel Stores   \n",
       "\n",
       "         Country  \n",
       "1233   Australia  \n",
       "1610   Australia  \n",
       "7627   Australia  \n",
       "8961   Australia  \n",
       "17727  Australia  \n",
       "40818  Australia  \n",
       "40839  Australia  \n",
       "89289  Australia  "
      ]
     },
     "execution_count": 6,
     "metadata": {},
     "output_type": "execute_result"
    }
   ],
   "source": [
    "# -*- coding: utf-8 -*-\n",
    "\n",
    "import pandas as pd\n",
    "from sarimaxModel import forcastStocks\n",
    "from loadstocks import loadStocksByTickers\n",
    "from loadstocks import loadAuTickersFromYahooExcel\n",
    "# We will look at stock prices over the past year, starting at January 1, 2016\n",
    "\n",
    "path='/root/pythondev/JanePython/'\n",
    "inputfile = path+'Yahoo.xlsx'\n",
    "outputfile = path+'stocks2.csv'\n",
    "stock_names=pd.read_excel(inputfile,header=3,usecols=4)\n",
    "au_stocks=stock_names[stock_names['Country']=='Australia']\n",
    "au_tickers=au_stocks[au_stocks['Category Name']=='Apparel Stores']\n",
    "\n",
    "au_tickers"
   ]
  },
  {
   "cell_type": "code",
   "execution_count": 7,
   "metadata": {},
   "outputs": [
    {
     "data": {
      "text/plain": [
       "8"
      ]
     },
     "execution_count": 7,
     "metadata": {},
     "output_type": "execute_result"
    }
   ],
   "source": [
    "len(au_tickers)"
   ]
  },
  {
   "cell_type": "code",
   "execution_count": null,
   "metadata": {},
   "outputs": [],
   "source": []
  }
 ],
 "metadata": {
  "kernelspec": {
   "display_name": "Python 3",
   "language": "python",
   "name": "python3"
  },
  "language_info": {
   "codemirror_mode": {
    "name": "ipython",
    "version": 3
   },
   "file_extension": ".py",
   "mimetype": "text/x-python",
   "name": "python",
   "nbconvert_exporter": "python",
   "pygments_lexer": "ipython3",
   "version": "3.6.3"
  }
 },
 "nbformat": 4,
 "nbformat_minor": 2
}
