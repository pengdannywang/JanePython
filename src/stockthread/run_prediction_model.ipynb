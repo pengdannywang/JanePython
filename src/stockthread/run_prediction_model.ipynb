{
 "cells": [
  {
   "cell_type": "code",
   "execution_count": null,
   "metadata": {},
   "outputs": [],
   "source": [
    "# -*- coding: utf-8 -*-\n",
    "\n",
    "import pandas as pd\n",
    "from sarimaxModel import forcastStocks\n",
    "from loadstocks import loadStocksByTickers\n",
    "from loadstocks import loadAuNotNaTickersFromYahooExcel\n",
    "# We will look at stock prices over the past year, starting at January 1, 2016\n",
    "\n",
    "#path='/Users/pengwang/PycharmProjects/JanePython/'\n",
    "path='/root/pythondev/JanePython/'\n",
    "inputfile = path+'Yahoo.xlsx'\n",
    "outputfile = 'stocks.csv'\n",
    "savepath=path+outputfile\n",
    "ds=pd.read_csv(savepath,parse_dates=['Date'],index_col='Date')\n",
    "\n",
    "#ds=ds[[col for col in ds.columns if pd.Series(ds[col].values>1).sum()>30]]\n",
    "#ds=ds['2018-06-01':]"
   ]
  },
  {
   "cell_type": "code",
   "execution_count": null,
   "metadata": {},
   "outputs": [],
   "source": []
  },
  {
   "cell_type": "code",
   "execution_count": null,
   "metadata": {
    "scrolled": true
   },
   "outputs": [],
   "source": [
    "\n",
    "data=ds.resample('MS').mean()\n",
    "result=pd.DataFrame()\n",
    "for ticker in data.columns:\n",
    "    print(ticker)\n",
    "    res=forcastStocks(path+'parameters.csv',ticker,data[ticker])\n",
    "    if(res is not None):\n",
    "        result[ticker]=res"
   ]
  },
  {
   "cell_type": "code",
   "execution_count": null,
   "metadata": {},
   "outputs": [],
   "source": [
    "result.diff().transpose().sort_values(by='2019-06-01',ascending=False)"
   ]
  },
  {
   "cell_type": "code",
   "execution_count": null,
   "metadata": {},
   "outputs": [],
   "source": [
    "\n",
    "sres=result.transpose().sort_values(by='2019-05-26',ascending=False)\n",
    "rate=sres[sres.columns[-2]]/sres[sres.columns[-3]]\n",
    "rate\n",
    "dd=pd.DataFrame()\n",
    "x=rate*1000-1000\n",
    "dd['benefit']=x\n",
    "dd['rate']=rate\n",
    "dd[sres.columns[-3]]=sres[sres.columns[-3]]\n",
    "dd[sres.columns[-2]]=sres[sres.columns[-2]]\n",
    "dd[sres.columns[-1]]=sres[sres.columns[-1]]\n",
    "\n",
    "\n",
    "dd.sort_values(by='benefit',ascending=False).head(300)"
   ]
  },
  {
   "cell_type": "code",
   "execution_count": null,
   "metadata": {},
   "outputs": [],
   "source": []
  },
  {
   "cell_type": "code",
   "execution_count": null,
   "metadata": {},
   "outputs": [],
   "source": [
    "result['CAV.AX']"
   ]
  },
  {
   "cell_type": "code",
   "execution_count": null,
   "metadata": {},
   "outputs": [],
   "source": [
    "invested=500/result*result.diff()\n",
    "\n",
    "ranked=invested.rank(axis=1,ascending=False)\n",
    "sorted=ranked.transpose().sort_values(by='2019-06-01',ascending=True)\n",
    "columns=sorted.index[0:30].tolist()\n",
    "columns"
   ]
  },
  {
   "cell_type": "code",
   "execution_count": null,
   "metadata": {},
   "outputs": [],
   "source": [
    "data=ds.resample('MS').mean()\n",
    "result=pd.DataFrame()\n",
    "for ticker in columns:\n",
    "    print(ticker)\n",
    "    res=forcastStocks(path+'parameters1.csv',ticker,data[ticker])\n",
    "    if(res is not None):\n",
    "        result[ticker]=res"
   ]
  },
  {
   "cell_type": "code",
   "execution_count": null,
   "metadata": {},
   "outputs": [],
   "source": []
  }
 ],
 "metadata": {
  "kernelspec": {
   "display_name": "Python 3",
   "language": "python",
   "name": "python3"
  },
  "language_info": {
   "codemirror_mode": {
    "name": "ipython",
    "version": 3
   },
   "file_extension": ".py",
   "mimetype": "text/x-python",
   "name": "python",
   "nbconvert_exporter": "python",
   "pygments_lexer": "ipython3",
   "version": "3.6.8"
  }
 },
 "nbformat": 4,
 "nbformat_minor": 2
}
