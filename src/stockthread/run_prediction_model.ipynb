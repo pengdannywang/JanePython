{
 "cells": [
  {
   "cell_type": "code",
   "execution_count": 8,
   "metadata": {},
   "outputs": [],
   "source": [
    "# -*- coding: utf-8 -*-\n",
    "\n",
    "import pandas as pd\n",
    "from sarimaxModel import forcastStocks\n",
    "from loadstocks import loadStocksByTickers\n",
    "from loadstocks import loadAuNotNaTickersFromYahooExcel\n",
    "# We will look at stock prices over the past year, starting at January 1, 2016\n",
    "\n",
    "#path='/Users/pengwang/PycharmProjects/JanePython/'\n",
    "path='/root/pythondev/JanePython/'\n",
    "outputfile = 'stocks.csv'\n",
    "savepath=path+outputfile\n",
    "ds=pd.read_csv(savepath,parse_dates=['Date'],index_col='Date')\n",
    "\n",
    "#ds=ds[[col for col in ds.columns if pd.Series(ds[col].values>1).sum()>30]]\n",
    "#ds=ds['2018-06-01':]"
   ]
  },
  {
   "cell_type": "code",
   "execution_count": 25,
   "metadata": {},
   "outputs": [
    {
     "data": {
      "text/plain": [
       "1877"
      ]
     },
     "execution_count": 25,
     "metadata": {},
     "output_type": "execute_result"
    }
   ],
   "source": [
    "len(ds.columns)"
   ]
  },
  {
   "cell_type": "code",
   "execution_count": 9,
   "metadata": {
    "scrolled": true
   },
   "outputs": [
    {
     "name": "stdout",
     "output_type": "stream",
     "text": [
      "MOQ.AX\n",
      "MOQ.AX exists in parameters: [1, 0, 1, 0, 0, 0, 12, 'c', -109.38798672984213, 0.0002823945484853132]\n",
      "ONT.AX\n",
      "ONT.AX exists in parameters: [0, 1, 1, 0, 1, 1, 12, 't', -90.5658237313673, 0.0007024087441713789]\n",
      "sarimaxPrdict has a exception for: ONT.AX [0, 1, 1] [0, 1, 1, 12] t 1 maxlag should be < nobs return None\n",
      "recalculated parameter: [0, 1, 1, 0, 1, 1, 12, 't', -90.5658237313673, 0.0007024087441713789]\n",
      "['ONT.AX', 0, 1, 1, 1, 1, 0, 12, 'ct', -9.682669136150437, 0.00024867056165245316]\n",
      "14D.AX\n",
      "['14D.AX', 0, 1, 0, 0, 0, 0, 12, 't', -5.763908431202971, 0.005598957529079074]\n",
      "new calculated parameter: ['14D.AX', 0, 1, 0, 0, 0, 0, 12, 't', -5.763908431202971, 0.005598957529079074]\n",
      "1ST.AX\n",
      "1ST.AX exists in parameters: [1, 0, 1, 1, 0, 0, 12, 'n', -57.19947800982994, 0.0017793012879584796]\n",
      "T3D.AX\n",
      "['T3D.AX', 1, 0, 0, 0, 1, 0, 12, 't', -152.76076460197854, 7.2616292747973606e-06]\n",
      "new calculated parameter: ['T3D.AX', 1, 0, 0, 0, 1, 0, 12, 't', -152.76076460197854, 7.2616292747973606e-06]\n",
      "TGP.AX\n",
      "TGP.AX exists in parameters: [0, 0, 1, 0, 0, 0, 12, 'c', -460.2361441434153, 0.0052923288608889285]\n",
      "TOT.AX\n",
      "TOT.AX exists in parameters: [1, 0, 1, 0, 1, 0, 12, 'n', -565.0774980258827, 7.736418480286389e-06]\n",
      "TDO.AX\n",
      "TDO.AX exists in parameters: [0, 0, 0, 0, 0, 0, 12, 'ct', -94.56378022779379, 0.0015305146623207904]\n",
      "DDD.AX\n",
      "['DDD.AX', 1, 0, 1, 0, 0, 0, 12, 'n', -284.86358505201576, 5.829284163132858e-07]\n",
      "new calculated parameter: ['DDD.AX', 1, 0, 1, 0, 0, 0, 12, 'n', -284.86358505201576, 5.829284163132858e-07]\n",
      "3PL.AX\n",
      "3PL.AX exists in parameters: [0, 1, 0, 0, 1, 0, 12, 'ct', -296.1466505728116, 3.19361357001835e-05]\n",
      "4DS.AX\n",
      "4DS.AX exists in parameters: [0, 0, 1, 0, 0, 0, 12, 'ct', -102.64192745096143, 0.00015682996682556886]\n",
      "5GN.AX\n",
      "['5GN.AX', 1, 0, 0, 0, 1, 0, 12, 'ct', 144.5855751967916, 0.011653792329698431]\n",
      "new calculated parameter: ['5GN.AX', 1, 0, 0, 0, 1, 0, 12, 'ct', 144.5855751967916, 0.011653792329698431]\n",
      "88E.AX\n",
      "88E.AX exists in parameters: [1, 1, 0, 1, 1, 1, 12, 't', -603.7656096827524, 4.2312466019059375e-06]\n",
      "sarimaxPrdict has a exception for: 88E.AX [1, 1, 0] [1, 1, 1, 12] t 1 maxlag should be < nobs return None\n",
      "recalculated parameter: [1, 1, 0, 1, 1, 1, 12, 't', -603.7656096827524, 4.2312466019059375e-06]\n",
      "['88E.AX', 1, 0, 0, 1, 0, 0, 12, 'c', -116.25548407353017, 1.5117994514321845e-05]\n",
      "8CO.AX\n",
      "8CO.AX exists in parameters: [1, 0, 1, 1, 0, 1, 12, 'c', -609.4405985349254, 0.02751129465366925]\n",
      "sarimaxPrdict has a exception for: 8CO.AX [1, 0, 1] [1, 0, 1, 12] c 1 maxlag should be < nobs return None\n",
      "recalculated parameter: [1, 0, 1, 1, 0, 1, 12, 'c', -609.4405985349254, 0.02751129465366925]\n",
      "['8CO.AX', 1, 1, 0, 1, 1, 0, 12, 'n', -7.709821626616241, 0.020166150779767328]\n",
      "8IH.AX\n"
     ]
    },
    {
     "ename": "AttributeError",
     "evalue": "'DataFrame' object has no attribute 'tolist'",
     "output_type": "error",
     "traceback": [
      "\u001b[0;31m---------------------------------------------------------------------------\u001b[0m",
      "\u001b[0;31mAttributeError\u001b[0m                            Traceback (most recent call last)",
      "\u001b[0;32m<ipython-input-9-4e80d98ae389>\u001b[0m in \u001b[0;36m<module>\u001b[0;34m\u001b[0m\n\u001b[1;32m      4\u001b[0m \u001b[0;32mfor\u001b[0m \u001b[0mticker\u001b[0m \u001b[0;32min\u001b[0m \u001b[0mdata\u001b[0m\u001b[0;34m.\u001b[0m\u001b[0mcolumns\u001b[0m\u001b[0;34m:\u001b[0m\u001b[0;34m\u001b[0m\u001b[0;34m\u001b[0m\u001b[0m\n\u001b[1;32m      5\u001b[0m     \u001b[0mprint\u001b[0m\u001b[0;34m(\u001b[0m\u001b[0mticker\u001b[0m\u001b[0;34m)\u001b[0m\u001b[0;34m\u001b[0m\u001b[0;34m\u001b[0m\u001b[0m\n\u001b[0;32m----> 6\u001b[0;31m     \u001b[0mres\u001b[0m\u001b[0;34m=\u001b[0m\u001b[0mforcastStocks\u001b[0m\u001b[0;34m(\u001b[0m\u001b[0mpath\u001b[0m\u001b[0;34m+\u001b[0m\u001b[0;34m'parameters1.csv'\u001b[0m\u001b[0;34m,\u001b[0m\u001b[0mticker\u001b[0m\u001b[0;34m,\u001b[0m\u001b[0mdata\u001b[0m\u001b[0;34m[\u001b[0m\u001b[0mticker\u001b[0m\u001b[0;34m]\u001b[0m\u001b[0;34m)\u001b[0m\u001b[0;34m\u001b[0m\u001b[0;34m\u001b[0m\u001b[0m\n\u001b[0m\u001b[1;32m      7\u001b[0m     \u001b[0;32mif\u001b[0m\u001b[0;34m(\u001b[0m\u001b[0mres\u001b[0m \u001b[0;32mis\u001b[0m \u001b[0;32mnot\u001b[0m \u001b[0;32mNone\u001b[0m\u001b[0;34m)\u001b[0m\u001b[0;34m:\u001b[0m\u001b[0;34m\u001b[0m\u001b[0;34m\u001b[0m\u001b[0m\n\u001b[1;32m      8\u001b[0m         \u001b[0mresult\u001b[0m\u001b[0;34m[\u001b[0m\u001b[0mticker\u001b[0m\u001b[0;34m]\u001b[0m\u001b[0;34m=\u001b[0m\u001b[0mres\u001b[0m\u001b[0;34m\u001b[0m\u001b[0;34m\u001b[0m\u001b[0m\n",
      "\u001b[0;32m~/pythondev/JanePython/src/stockthread/sarimaxModel.py\u001b[0m in \u001b[0;36mforcastStocks\u001b[0;34m(paramPath, ticker, y, steps, disp)\u001b[0m\n\u001b[1;32m    172\u001b[0m     \u001b[0mresult\u001b[0m\u001b[0;34m=\u001b[0m\u001b[0;32mNone\u001b[0m\u001b[0;34m\u001b[0m\u001b[0;34m\u001b[0m\u001b[0m\n\u001b[1;32m    173\u001b[0m     \u001b[0;32mif\u001b[0m \u001b[0;34m(\u001b[0m\u001b[0mlen\u001b[0m\u001b[0;34m(\u001b[0m\u001b[0mparams\u001b[0m\u001b[0;34m)\u001b[0m\u001b[0;34m>\u001b[0m\u001b[0;36m0\u001b[0m \u001b[0;32mand\u001b[0m \u001b[0mparams\u001b[0m\u001b[0;34m.\u001b[0m\u001b[0mindex\u001b[0m\u001b[0;34m.\u001b[0m\u001b[0mcontains\u001b[0m\u001b[0;34m(\u001b[0m\u001b[0mticker\u001b[0m\u001b[0;34m)\u001b[0m\u001b[0;34m)\u001b[0m\u001b[0;34m:\u001b[0m\u001b[0;34m\u001b[0m\u001b[0;34m\u001b[0m\u001b[0m\n\u001b[0;32m--> 174\u001b[0;31m         \u001b[0mparameters\u001b[0m\u001b[0;34m=\u001b[0m\u001b[0mparams\u001b[0m\u001b[0;34m.\u001b[0m\u001b[0mloc\u001b[0m\u001b[0;34m[\u001b[0m\u001b[0mticker\u001b[0m\u001b[0;34m]\u001b[0m\u001b[0;34m.\u001b[0m\u001b[0mtolist\u001b[0m\u001b[0;34m(\u001b[0m\u001b[0;34m)\u001b[0m\u001b[0;34m\u001b[0m\u001b[0;34m\u001b[0m\u001b[0m\n\u001b[0m\u001b[1;32m    175\u001b[0m         \u001b[0mparameters\u001b[0m\u001b[0;34m=\u001b[0m\u001b[0;34m[\u001b[0m\u001b[0mint\u001b[0m\u001b[0;34m(\u001b[0m\u001b[0mv\u001b[0m\u001b[0;34m)\u001b[0m \u001b[0;32mif\u001b[0m \u001b[0;34m(\u001b[0m \u001b[0;34m(\u001b[0m\u001b[0misinstance\u001b[0m\u001b[0;34m(\u001b[0m\u001b[0mv\u001b[0m\u001b[0;34m,\u001b[0m\u001b[0;34m(\u001b[0m\u001b[0mint\u001b[0m\u001b[0;34m,\u001b[0m\u001b[0mfloat\u001b[0m\u001b[0;34m)\u001b[0m\u001b[0;34m)\u001b[0m \u001b[0;32mor\u001b[0m \u001b[0mv\u001b[0m\u001b[0;34m.\u001b[0m\u001b[0misdigit\u001b[0m\u001b[0;34m(\u001b[0m\u001b[0;34m)\u001b[0m\u001b[0;34m)\u001b[0m \u001b[0;32mand\u001b[0m \u001b[0mi\u001b[0m\u001b[0;34m<\u001b[0m\u001b[0;36m7\u001b[0m\u001b[0;34m)\u001b[0m  \u001b[0;32melse\u001b[0m \u001b[0mv\u001b[0m \u001b[0;32mfor\u001b[0m \u001b[0mi\u001b[0m\u001b[0;34m,\u001b[0m\u001b[0mv\u001b[0m \u001b[0;32min\u001b[0m \u001b[0menumerate\u001b[0m\u001b[0;34m(\u001b[0m\u001b[0mparameters\u001b[0m\u001b[0;34m)\u001b[0m\u001b[0;34m]\u001b[0m\u001b[0;34m\u001b[0m\u001b[0;34m\u001b[0m\u001b[0m\n\u001b[1;32m    176\u001b[0m         \u001b[0mprint\u001b[0m\u001b[0;34m(\u001b[0m\u001b[0mticker\u001b[0m\u001b[0;34m,\u001b[0m\u001b[0;34m'exists in parameters:'\u001b[0m\u001b[0;34m,\u001b[0m\u001b[0mparameters\u001b[0m\u001b[0;34m)\u001b[0m\u001b[0;34m\u001b[0m\u001b[0;34m\u001b[0m\u001b[0m\n",
      "\u001b[0;32m~/miniconda/lib/python3.6/site-packages/pandas/core/generic.py\u001b[0m in \u001b[0;36m__getattr__\u001b[0;34m(self, name)\u001b[0m\n\u001b[1;32m   5065\u001b[0m             \u001b[0;32mif\u001b[0m \u001b[0mself\u001b[0m\u001b[0;34m.\u001b[0m\u001b[0m_info_axis\u001b[0m\u001b[0;34m.\u001b[0m\u001b[0m_can_hold_identifiers_and_holds_name\u001b[0m\u001b[0;34m(\u001b[0m\u001b[0mname\u001b[0m\u001b[0;34m)\u001b[0m\u001b[0;34m:\u001b[0m\u001b[0;34m\u001b[0m\u001b[0;34m\u001b[0m\u001b[0m\n\u001b[1;32m   5066\u001b[0m                 \u001b[0;32mreturn\u001b[0m \u001b[0mself\u001b[0m\u001b[0;34m[\u001b[0m\u001b[0mname\u001b[0m\u001b[0;34m]\u001b[0m\u001b[0;34m\u001b[0m\u001b[0;34m\u001b[0m\u001b[0m\n\u001b[0;32m-> 5067\u001b[0;31m             \u001b[0;32mreturn\u001b[0m \u001b[0mobject\u001b[0m\u001b[0;34m.\u001b[0m\u001b[0m__getattribute__\u001b[0m\u001b[0;34m(\u001b[0m\u001b[0mself\u001b[0m\u001b[0;34m,\u001b[0m \u001b[0mname\u001b[0m\u001b[0;34m)\u001b[0m\u001b[0;34m\u001b[0m\u001b[0;34m\u001b[0m\u001b[0m\n\u001b[0m\u001b[1;32m   5068\u001b[0m \u001b[0;34m\u001b[0m\u001b[0m\n\u001b[1;32m   5069\u001b[0m     \u001b[0;32mdef\u001b[0m \u001b[0m__setattr__\u001b[0m\u001b[0;34m(\u001b[0m\u001b[0mself\u001b[0m\u001b[0;34m,\u001b[0m \u001b[0mname\u001b[0m\u001b[0;34m,\u001b[0m \u001b[0mvalue\u001b[0m\u001b[0;34m)\u001b[0m\u001b[0;34m:\u001b[0m\u001b[0;34m\u001b[0m\u001b[0;34m\u001b[0m\u001b[0m\n",
      "\u001b[0;31mAttributeError\u001b[0m: 'DataFrame' object has no attribute 'tolist'"
     ]
    }
   ],
   "source": [
    "\n",
    "data=ds.resample('MS').mean()\n",
    "result=pd.DataFrame()\n",
    "for ticker in data.columns:\n",
    "    print(ticker)\n",
    "    res=forcastStocks(path+'parameters1.csv',ticker,data[ticker])\n",
    "    if(res is not None):\n",
    "        result[ticker]=res"
   ]
  },
  {
   "cell_type": "code",
   "execution_count": 24,
   "metadata": {},
   "outputs": [
    {
     "data": {
      "text/plain": [
       "14"
      ]
     },
     "execution_count": 24,
     "metadata": {},
     "output_type": "execute_result"
    }
   ],
   "source": [
    "len(result.columns)"
   ]
  },
  {
   "cell_type": "code",
   "execution_count": 22,
   "metadata": {},
   "outputs": [
    {
     "data": {
      "text/html": [
       "<div>\n",
       "<style scoped>\n",
       "    .dataframe tbody tr th:only-of-type {\n",
       "        vertical-align: middle;\n",
       "    }\n",
       "\n",
       "    .dataframe tbody tr th {\n",
       "        vertical-align: top;\n",
       "    }\n",
       "\n",
       "    .dataframe thead th {\n",
       "        text-align: right;\n",
       "    }\n",
       "</style>\n",
       "<table border=\"1\" class=\"dataframe\">\n",
       "  <thead>\n",
       "    <tr style=\"text-align: right;\">\n",
       "      <th></th>\n",
       "      <th>2019-05-01 00:00:00</th>\n",
       "      <th>2019-06-01 00:00:00</th>\n",
       "    </tr>\n",
       "  </thead>\n",
       "  <tbody>\n",
       "    <tr>\n",
       "      <th>5GN.AX</th>\n",
       "      <td>NaN</td>\n",
       "      <td>0.185215</td>\n",
       "    </tr>\n",
       "    <tr>\n",
       "      <th>8CO.AX</th>\n",
       "      <td>NaN</td>\n",
       "      <td>0.177658</td>\n",
       "    </tr>\n",
       "    <tr>\n",
       "      <th>TOT.AX</th>\n",
       "      <td>NaN</td>\n",
       "      <td>0.039833</td>\n",
       "    </tr>\n",
       "    <tr>\n",
       "      <th>TDO.AX</th>\n",
       "      <td>NaN</td>\n",
       "      <td>0.008137</td>\n",
       "    </tr>\n",
       "    <tr>\n",
       "      <th>4DS.AX</th>\n",
       "      <td>NaN</td>\n",
       "      <td>0.004881</td>\n",
       "    </tr>\n",
       "    <tr>\n",
       "      <th>MOQ.AX</th>\n",
       "      <td>NaN</td>\n",
       "      <td>0.002585</td>\n",
       "    </tr>\n",
       "    <tr>\n",
       "      <th>DDD.AX</th>\n",
       "      <td>NaN</td>\n",
       "      <td>-0.000072</td>\n",
       "    </tr>\n",
       "    <tr>\n",
       "      <th>T3D.AX</th>\n",
       "      <td>NaN</td>\n",
       "      <td>-0.000990</td>\n",
       "    </tr>\n",
       "    <tr>\n",
       "      <th>1ST.AX</th>\n",
       "      <td>NaN</td>\n",
       "      <td>-0.001410</td>\n",
       "    </tr>\n",
       "    <tr>\n",
       "      <th>88E.AX</th>\n",
       "      <td>NaN</td>\n",
       "      <td>-0.001892</td>\n",
       "    </tr>\n",
       "    <tr>\n",
       "      <th>14D.AX</th>\n",
       "      <td>NaN</td>\n",
       "      <td>-0.006446</td>\n",
       "    </tr>\n",
       "    <tr>\n",
       "      <th>TGP.AX</th>\n",
       "      <td>NaN</td>\n",
       "      <td>-0.012069</td>\n",
       "    </tr>\n",
       "    <tr>\n",
       "      <th>ONT.AX</th>\n",
       "      <td>NaN</td>\n",
       "      <td>-0.062290</td>\n",
       "    </tr>\n",
       "    <tr>\n",
       "      <th>3PL.AX</th>\n",
       "      <td>NaN</td>\n",
       "      <td>-0.237474</td>\n",
       "    </tr>\n",
       "  </tbody>\n",
       "</table>\n",
       "</div>"
      ],
      "text/plain": [
       "        2019-05-01  2019-06-01\n",
       "5GN.AX         NaN    0.185215\n",
       "8CO.AX         NaN    0.177658\n",
       "TOT.AX         NaN    0.039833\n",
       "TDO.AX         NaN    0.008137\n",
       "4DS.AX         NaN    0.004881\n",
       "MOQ.AX         NaN    0.002585\n",
       "DDD.AX         NaN   -0.000072\n",
       "T3D.AX         NaN   -0.000990\n",
       "1ST.AX         NaN   -0.001410\n",
       "88E.AX         NaN   -0.001892\n",
       "14D.AX         NaN   -0.006446\n",
       "TGP.AX         NaN   -0.012069\n",
       "ONT.AX         NaN   -0.062290\n",
       "3PL.AX         NaN   -0.237474"
      ]
     },
     "execution_count": 22,
     "metadata": {},
     "output_type": "execute_result"
    }
   ],
   "source": [
    "result1=result.diff().transpose()\n",
    "result1.sort_values(by=result1.columns[-1],ascending=False)"
   ]
  },
  {
   "cell_type": "code",
   "execution_count": 14,
   "metadata": {},
   "outputs": [
    {
     "ename": "KeyError",
     "evalue": "'88E.AX'",
     "output_type": "error",
     "traceback": [
      "\u001b[0;31m---------------------------------------------------------------------------\u001b[0m",
      "\u001b[0;31mKeyError\u001b[0m                                  Traceback (most recent call last)",
      "\u001b[0;32m<ipython-input-14-88e65edbd279>\u001b[0m in \u001b[0;36m<module>\u001b[0;34m\u001b[0m\n\u001b[1;32m      1\u001b[0m \u001b[0;34m\u001b[0m\u001b[0m\n\u001b[0;32m----> 2\u001b[0;31m \u001b[0msres\u001b[0m\u001b[0;34m=\u001b[0m\u001b[0mresult\u001b[0m\u001b[0;34m.\u001b[0m\u001b[0mtranspose\u001b[0m\u001b[0;34m(\u001b[0m\u001b[0;34m)\u001b[0m\u001b[0;34m.\u001b[0m\u001b[0msort_values\u001b[0m\u001b[0;34m(\u001b[0m\u001b[0mby\u001b[0m\u001b[0;34m=\u001b[0m\u001b[0;34m[\u001b[0m\u001b[0mresult\u001b[0m\u001b[0;34m.\u001b[0m\u001b[0mcolumns\u001b[0m\u001b[0;34m[\u001b[0m\u001b[0;34m-\u001b[0m\u001b[0;36m2\u001b[0m\u001b[0;34m]\u001b[0m\u001b[0;34m]\u001b[0m\u001b[0;34m,\u001b[0m\u001b[0mascending\u001b[0m\u001b[0;34m=\u001b[0m\u001b[0;32mFalse\u001b[0m\u001b[0;34m)\u001b[0m\u001b[0;34m\u001b[0m\u001b[0;34m\u001b[0m\u001b[0m\n\u001b[0m\u001b[1;32m      3\u001b[0m \u001b[0mrate\u001b[0m\u001b[0;34m=\u001b[0m\u001b[0msres\u001b[0m\u001b[0;34m[\u001b[0m\u001b[0msres\u001b[0m\u001b[0;34m.\u001b[0m\u001b[0mcolumns\u001b[0m\u001b[0;34m[\u001b[0m\u001b[0;34m-\u001b[0m\u001b[0;36m2\u001b[0m\u001b[0;34m]\u001b[0m\u001b[0;34m]\u001b[0m\u001b[0;34m/\u001b[0m\u001b[0msres\u001b[0m\u001b[0;34m[\u001b[0m\u001b[0msres\u001b[0m\u001b[0;34m.\u001b[0m\u001b[0mcolumns\u001b[0m\u001b[0;34m[\u001b[0m\u001b[0;34m-\u001b[0m\u001b[0;36m3\u001b[0m\u001b[0;34m]\u001b[0m\u001b[0;34m]\u001b[0m\u001b[0;34m\u001b[0m\u001b[0;34m\u001b[0m\u001b[0m\n\u001b[1;32m      4\u001b[0m \u001b[0mrate\u001b[0m\u001b[0;34m\u001b[0m\u001b[0;34m\u001b[0m\u001b[0m\n\u001b[1;32m      5\u001b[0m \u001b[0mdd\u001b[0m\u001b[0;34m=\u001b[0m\u001b[0mpd\u001b[0m\u001b[0;34m.\u001b[0m\u001b[0mDataFrame\u001b[0m\u001b[0;34m(\u001b[0m\u001b[0;34m)\u001b[0m\u001b[0;34m\u001b[0m\u001b[0;34m\u001b[0m\u001b[0m\n",
      "\u001b[0;32m~/miniconda/lib/python3.6/site-packages/pandas/core/frame.py\u001b[0m in \u001b[0;36msort_values\u001b[0;34m(self, by, axis, ascending, inplace, kind, na_position)\u001b[0m\n\u001b[1;32m   4717\u001b[0m \u001b[0;34m\u001b[0m\u001b[0m\n\u001b[1;32m   4718\u001b[0m             \u001b[0mby\u001b[0m \u001b[0;34m=\u001b[0m \u001b[0mby\u001b[0m\u001b[0;34m[\u001b[0m\u001b[0;36m0\u001b[0m\u001b[0;34m]\u001b[0m\u001b[0;34m\u001b[0m\u001b[0;34m\u001b[0m\u001b[0m\n\u001b[0;32m-> 4719\u001b[0;31m             \u001b[0mk\u001b[0m \u001b[0;34m=\u001b[0m \u001b[0mself\u001b[0m\u001b[0;34m.\u001b[0m\u001b[0m_get_label_or_level_values\u001b[0m\u001b[0;34m(\u001b[0m\u001b[0mby\u001b[0m\u001b[0;34m,\u001b[0m \u001b[0maxis\u001b[0m\u001b[0;34m=\u001b[0m\u001b[0maxis\u001b[0m\u001b[0;34m)\u001b[0m\u001b[0;34m\u001b[0m\u001b[0;34m\u001b[0m\u001b[0m\n\u001b[0m\u001b[1;32m   4720\u001b[0m \u001b[0;34m\u001b[0m\u001b[0m\n\u001b[1;32m   4721\u001b[0m             \u001b[0;32mif\u001b[0m \u001b[0misinstance\u001b[0m\u001b[0;34m(\u001b[0m\u001b[0mascending\u001b[0m\u001b[0;34m,\u001b[0m \u001b[0;34m(\u001b[0m\u001b[0mtuple\u001b[0m\u001b[0;34m,\u001b[0m \u001b[0mlist\u001b[0m\u001b[0;34m)\u001b[0m\u001b[0;34m)\u001b[0m\u001b[0;34m:\u001b[0m\u001b[0;34m\u001b[0m\u001b[0;34m\u001b[0m\u001b[0m\n",
      "\u001b[0;32m~/miniconda/lib/python3.6/site-packages/pandas/core/generic.py\u001b[0m in \u001b[0;36m_get_label_or_level_values\u001b[0;34m(self, key, axis)\u001b[0m\n\u001b[1;32m   1704\u001b[0m             \u001b[0mvalues\u001b[0m \u001b[0;34m=\u001b[0m \u001b[0mself\u001b[0m\u001b[0;34m.\u001b[0m\u001b[0maxes\u001b[0m\u001b[0;34m[\u001b[0m\u001b[0maxis\u001b[0m\u001b[0;34m]\u001b[0m\u001b[0;34m.\u001b[0m\u001b[0mget_level_values\u001b[0m\u001b[0;34m(\u001b[0m\u001b[0mkey\u001b[0m\u001b[0;34m)\u001b[0m\u001b[0;34m.\u001b[0m\u001b[0m_values\u001b[0m\u001b[0;34m\u001b[0m\u001b[0;34m\u001b[0m\u001b[0m\n\u001b[1;32m   1705\u001b[0m         \u001b[0;32melse\u001b[0m\u001b[0;34m:\u001b[0m\u001b[0;34m\u001b[0m\u001b[0;34m\u001b[0m\u001b[0m\n\u001b[0;32m-> 1706\u001b[0;31m             \u001b[0;32mraise\u001b[0m \u001b[0mKeyError\u001b[0m\u001b[0;34m(\u001b[0m\u001b[0mkey\u001b[0m\u001b[0;34m)\u001b[0m\u001b[0;34m\u001b[0m\u001b[0;34m\u001b[0m\u001b[0m\n\u001b[0m\u001b[1;32m   1707\u001b[0m \u001b[0;34m\u001b[0m\u001b[0m\n\u001b[1;32m   1708\u001b[0m         \u001b[0;31m# Check for duplicates\u001b[0m\u001b[0;34m\u001b[0m\u001b[0;34m\u001b[0m\u001b[0;34m\u001b[0m\u001b[0m\n",
      "\u001b[0;31mKeyError\u001b[0m: '88E.AX'"
     ]
    }
   ],
   "source": [
    "\n",
    "sres=result.transpose()\n",
    "sres=sres.sort_values(by=sres.columns[0],ascending=False)\n",
    "rate=sres[sres.columns[-2]]/sres[sres.columns[-3]]\n",
    "rate\n",
    "dd=pd.DataFrame()\n",
    "x=rate*1000-1000\n",
    "dd['benefit']=x\n",
    "dd['rate']=rate\n",
    "dd[sres.columns[-3]]=sres[sres.columns[-3]]\n",
    "dd[sres.columns[-2]]=sres[sres.columns[-2]]\n",
    "dd[sres.columns[-1]]=sres[sres.columns[-1]]\n",
    "\n",
    "\n",
    "dd.sort_values(by='benefit',ascending=False).head(300)"
   ]
  },
  {
   "cell_type": "code",
   "execution_count": null,
   "metadata": {},
   "outputs": [],
   "source": []
  },
  {
   "cell_type": "code",
   "execution_count": null,
   "metadata": {},
   "outputs": [],
   "source": [
    "result['CAV.AX']"
   ]
  },
  {
   "cell_type": "code",
   "execution_count": null,
   "metadata": {},
   "outputs": [],
   "source": [
    "invested=500/result*result.diff()\n",
    "\n",
    "ranked=invested.rank(axis=1,ascending=False)\n",
    "sorted=ranked.transpose().sort_values(by='2019-06-01',ascending=True)\n",
    "columns=sorted.index[0:30].tolist()\n",
    "columns"
   ]
  },
  {
   "cell_type": "code",
   "execution_count": null,
   "metadata": {},
   "outputs": [],
   "source": [
    "data=ds.resample('MS').mean()\n",
    "result=pd.DataFrame()\n",
    "for ticker in columns:\n",
    "    print(ticker)\n",
    "    res=forcastStocks(path+'parameters1.csv',ticker,data[ticker])\n",
    "    if(res is not None):\n",
    "        result[ticker]=res"
   ]
  },
  {
   "cell_type": "code",
   "execution_count": null,
   "metadata": {},
   "outputs": [],
   "source": []
  }
 ],
 "metadata": {
  "kernelspec": {
   "display_name": "Python 3",
   "language": "python",
   "name": "python3"
  },
  "language_info": {
   "codemirror_mode": {
    "name": "ipython",
    "version": 3
   },
   "file_extension": ".py",
   "mimetype": "text/x-python",
   "name": "python",
   "nbconvert_exporter": "python",
   "pygments_lexer": "ipython3",
   "version": "3.6.8"
  }
 },
 "nbformat": 4,
 "nbformat_minor": 2
}
