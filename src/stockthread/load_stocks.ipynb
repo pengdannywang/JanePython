{
 "cells": [
  {
   "cell_type": "code",
   "execution_count": null,
   "metadata": {},
   "outputs": [],
   "source": [
    "# -*- coding: utf-8 -*-\n",
    "\n",
    "import pandas as pd\n",
    "from sarimaxModel import forcastStocks\n",
    "from loadstocks import loadStocksByTickers\n",
    "from loadstocks import loadAuNotNaTickersFromYahooExcel\n",
    "# We will look at stock prices over the past year, starting at January 1, 2016\n",
    "#path='/Users/pengwang/PycharmProjects/JanePython/'\n",
    "path='/root/pythondev/JanePython/'\n",
    "inputfile = path+'Yahoo.xlsx'\n",
    "outputfile = 'stocks2.csv'\n",
    "\n",
    "tickers=loadAuNotNaTickersFromYahooExcel(inputfile)\n",
    "stocks=loadStocksByTickers(tickers,path,outputfile)\n",
    "print(len(stocks.columns))"
   ]
  },
  {
   "cell_type": "code",
   "execution_count": null,
   "metadata": {},
   "outputs": [],
   "source": [
    "# -*- coding: utf-8 -*-\n",
    "\n",
    "import pandas as pd\n",
    "from sarimaxModel import forcastStocks\n",
    "from loadstocks import loadStocksByTickers\n",
    "from loadstocks import loadAuNotNaTickersFromYahooExcel\n",
    "# We will look at stock prices over the past year, starting at January 1, 2016\n",
    "#path='/Users/pengwang/PycharmProjects/JanePython/'\n",
    "path='/root/pythondev/JanePython/'\n",
    "inputfile = path+'Yahoo.xlsx'\n",
    "outputfile = 'stocks2.csv'\n",
    "\n",
    "tickers=loadAuNotNaTickersFromYahooExcel(inputfile)"
   ]
  },
  {
   "cell_type": "code",
   "execution_count": null,
   "metadata": {},
   "outputs": [],
   "source": [
    "len(tickers)"
   ]
  },
  {
   "cell_type": "code",
   "execution_count": null,
   "metadata": {},
   "outputs": [],
   "source": []
  }
 ],
 "metadata": {
  "kernelspec": {
   "display_name": "Python 3",
   "language": "python",
   "name": "python3"
  },
  "language_info": {
   "codemirror_mode": {
    "name": "ipython",
    "version": 3
   },
   "file_extension": ".py",
   "mimetype": "text/x-python",
   "name": "python",
   "nbconvert_exporter": "python",
   "pygments_lexer": "ipython3",
   "version": "3.6.8"
  }
 },
 "nbformat": 4,
 "nbformat_minor": 2
}
